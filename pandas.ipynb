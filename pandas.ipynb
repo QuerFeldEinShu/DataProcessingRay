{
 "cells": [
  {
   "cell_type": "code",
   "execution_count": 26,
   "id": "7520b600-281f-41b2-b44a-ee3cb5829213",
   "metadata": {},
   "outputs": [
    {
     "name": "stdout",
     "output_type": "stream",
     "text": [
      "Index(['CustomerId', 'OrderId', 'ProductId', 'ProductGroupId', 'Quantity',\n",
      "       'OrderDate'],\n",
      "      dtype='object')\n",
      "            OrderId  ProductId  ProductGroupId  Quantity  OrderDate\n",
      "CustomerId                                                         \n",
      "12835         11805      11805           11805     11805      11805\n",
      "15            11141      11141           11141     11141      11141\n",
      "9729          10239      10239           10239     10239      10239\n",
      "14             9116       9116            9116      9116       9116\n",
      "55             8914       8914            8914      8914       8914\n",
      "12708          7915       7915            7915      7915       7915\n",
      "69             7599       7599            7599      7599       7599\n",
      "12823          7512       7512            7512      7512       7512\n",
      "16             7471       7471            7471      7471       7471\n",
      "3493           7455       7455            7455      7455       7455\n",
      "Processing times:\n",
      "From start: 5.435688257217407s\n",
      "After reading: 0.7356078624725342s\n"
     ]
    }
   ],
   "source": [
    "import pandas as pd\n",
    "import time\n",
    "\n",
    "start = time.time()\n",
    "\n",
    "df = pd.read_csv(\"../sales-data.csv\")\n",
    "\n",
    "read = time.time()\n",
    "\n",
    "print(df.columns)\n",
    "\n",
    "count_occurences = df.drop_duplicates([\"CustomerId\", \"OrderId\"]).groupby(by=[\"CustomerId\"]).count().sort_values(by=\"OrderId\", ascending=False).head(10)\n",
    "\n",
    "print(count_occurences)\n",
    "\n",
    "print(\"Processing times:\")\n",
    "print(\"From start: \" + str(time.time() - start) + \"s\")\n",
    "print(\"After reading: \" + str(time.time() - read) + \"s\")"
   ]
  }
 ],
 "metadata": {
  "kernelspec": {
   "display_name": "Python 3",
   "language": "python",
   "name": "python3"
  },
  "language_info": {
   "codemirror_mode": {
    "name": "ipython",
    "version": 3
   },
   "file_extension": ".py",
   "mimetype": "text/x-python",
   "name": "python",
   "nbconvert_exporter": "python",
   "pygments_lexer": "ipython3",
   "version": "3.8.8"
  }
 },
 "nbformat": 4,
 "nbformat_minor": 5
}

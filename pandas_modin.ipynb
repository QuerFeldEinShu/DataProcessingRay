{
 "cells": [
  {
   "cell_type": "code",
   "execution_count": 1,
   "outputs": [
    {
     "name": "stderr",
     "output_type": "stream",
     "text": [
      "2022-01-29 13:31:02,244\tINFO services.py:1338 -- View the Ray dashboard at \u001B[1m\u001B[32mhttp://127.0.0.1:8265\u001B[39m\u001B[22m\n"
     ]
    },
    {
     "name": "stdout",
     "output_type": "stream",
     "text": [
      "CPU times: total: 594 ms\n",
      "Wall time: 8.65 s\n"
     ]
    },
    {
     "data": {
      "text/plain": "{'memory': 5731722855.0,\n 'object_store_memory': 2865861427.0,\n 'GPU': 1.0,\n 'node:127.0.0.1': 1.0,\n 'CPU': 4.0}"
     },
     "execution_count": 1,
     "metadata": {},
     "output_type": "execute_result"
    }
   ],
   "source": [
    "%%time\n",
    "import ray\n",
    "\n",
    "ray.init()\n",
    "ray.available_resources()"
   ],
   "metadata": {
    "collapsed": false,
    "pycharm": {
     "name": "#%%\n"
    }
   }
  },
  {
   "cell_type": "markdown",
   "source": [
    "### Pandas"
   ],
   "metadata": {
    "collapsed": false,
    "pycharm": {
     "name": "#%% md\n"
    }
   }
  },
  {
   "cell_type": "code",
   "execution_count": 2,
   "outputs": [
    {
     "name": "stdout",
     "output_type": "stream",
     "text": [
      "CPU times: total: 3.5 s\n",
      "Wall time: 4.74 s\n"
     ]
    }
   ],
   "source": [
    "%%time\n",
    "import pandas as pd\n",
    "\n",
    "df = pd.read_csv(\"../sales-data.csv\", parse_dates=[\"OrderDate\"])"
   ],
   "metadata": {
    "collapsed": false,
    "pycharm": {
     "name": "#%%\n"
    }
   }
  },
  {
   "cell_type": "code",
   "execution_count": 3,
   "outputs": [
    {
     "name": "stdout",
     "output_type": "stream",
     "text": [
      "CPU times: total: 828 ms\n",
      "Wall time: 1.71 s\n"
     ]
    },
    {
     "data": {
      "text/plain": "CustomerId\n12835    11805\n15       11141\n9729     10239\n14        9116\n55        8914\n12708     7915\n69        7599\n12823     7512\n16        7471\n3493      7455\nName: OrderId, dtype: int64"
     },
     "execution_count": 3,
     "metadata": {},
     "output_type": "execute_result"
    }
   ],
   "source": [
    "%%time\n",
    "import pandas as pd\n",
    "\n",
    "\"\"\"Top 10 customers\"\"\"\n",
    "df.drop_duplicates([\"CustomerId\", \"OrderId\"]).groupby(by=[\"CustomerId\"]).count().sort_values(by=\"OrderId\", ascending=False).head(10)[\"OrderId\"]"
   ],
   "metadata": {
    "collapsed": false,
    "pycharm": {
     "name": "#%%\n"
    }
   }
  },
  {
   "cell_type": "code",
   "execution_count": 4,
   "outputs": [
    {
     "name": "stdout",
     "output_type": "stream",
     "text": [
      "CPU times: total: 922 ms\n",
      "Wall time: 2.03 s\n"
     ]
    },
    {
     "data": {
      "text/plain": "OrderMonth\n2017-11    7.543293e+07\n2017-03    7.459200e+07\n2017-10    7.223356e+07\n2017-06    7.191025e+07\n2017-05    6.984081e+07\n2018-06    6.936298e+07\n2018-10    6.857377e+07\n2018-02    6.821900e+07\n2017-02    6.666570e+07\n2018-03    6.664240e+07\nFreq: M, Name: Quantity, dtype: float64"
     },
     "execution_count": 4,
     "metadata": {},
     "output_type": "execute_result"
    }
   ],
   "source": [
    "%%time\n",
    "\n",
    "\"\"\" Top Sold Products per Month\"\"\"\n",
    "df[\"OrderMonth\"] = df[\"OrderDate\"].dt.to_period('M')\n",
    "df.groupby(by='OrderMonth').sum().sort_values(by=\"Quantity\", ascending=False).head(10)[\"Quantity\"]"
   ],
   "metadata": {
    "collapsed": false,
    "pycharm": {
     "name": "#%%\n"
    }
   }
  },
  {
   "cell_type": "code",
   "execution_count": 5,
   "outputs": [
    {
     "name": "stdout",
     "output_type": "stream",
     "text": [
      "Year 2015\n",
      "ProductId\n",
      "48222     1\n",
      "116532    1\n",
      "Name: OrderId, dtype: int64\n",
      "\n",
      "Year 2016\n",
      "ProductId\n",
      "2     1\n",
      "9     1\n",
      "16    1\n",
      "17    1\n",
      "18    1\n",
      "38    1\n",
      "39    1\n",
      "43    1\n",
      "50    1\n",
      "56    1\n",
      "Name: OrderId, dtype: int64\n",
      "\n",
      "Year 2017\n",
      "ProductId\n",
      "231     1\n",
      "429     1\n",
      "441     1\n",
      "1014    1\n",
      "1342    1\n",
      "1413    1\n",
      "1621    1\n",
      "1663    1\n",
      "1675    1\n",
      "1709    1\n",
      "Name: OrderId, dtype: int64\n",
      "\n",
      "Year 2018\n",
      "ProductId\n",
      "204     1\n",
      "248     1\n",
      "429     1\n",
      "469     1\n",
      "593     1\n",
      "853     1\n",
      "935     1\n",
      "939     1\n",
      "978     1\n",
      "1019    1\n",
      "Name: OrderId, dtype: int64\n",
      "\n",
      "CPU times: total: 3.28 s\n",
      "Wall time: 5.22 s\n"
     ]
    }
   ],
   "source": [
    "%%time\n",
    "\n",
    "\"\"\" Produkte die pro Jahr am wenigsten gekauft wurden - nach Anzahl Orders von Produkt \"\"\"\n",
    "df[\"Year\"] = df[\"OrderDate\"].dt.to_period(\"Y\")\n",
    "years = df.sort_values(by=\"OrderDate\")[\"Year\"].unique()\n",
    "\n",
    "for year in years:\n",
    "    print(\"Year \" + str(year))\n",
    "    products_year = df.groupby(by=[\"Year\"]).get_group(year)\n",
    "    print(products_year.groupby(by=[\"ProductId\"]).count().sort_values(by=[\"Quantity\", \"ProductId\"]).head(10)[\"OrderId\"])\n",
    "    print()"
   ],
   "metadata": {
    "collapsed": false,
    "pycharm": {
     "name": "#%%\n"
    }
   }
  },
  {
   "cell_type": "code",
   "execution_count": null,
   "outputs": [],
   "source": [
    "%%time\n",
    "\n",
    "\"\"\" Produkte die pro Jahr am wenigsten gekauft wurden - nach Summe der Quantity \"\"\"\n",
    "df[\"Year\"] = df[\"OrderDate\"].dt.to_period(\"Y\")\n",
    "years = df.sort_values(by=\"OrderDate\")[\"Year\"].unique()\n",
    "\n",
    "for year in years:\n",
    "    print(\"Year \" + str(year))\n",
    "    products_year = df.groupby(by=[\"Year\"]).get_group(year)\n",
    "    print(products_year.groupby(by=[\"ProductId\"]).sum().sort_values(by=[\"Quantity\", \"ProductId\"]).head(10)[\"Quantity\"])"
   ],
   "metadata": {
    "collapsed": false,
    "pycharm": {
     "name": "#%%\n"
    }
   }
  },
  {
   "cell_type": "code",
   "execution_count": 7,
   "outputs": [
    {
     "name": "stdout",
     "output_type": "stream",
     "text": [
      "Year 2015\n",
      "Empty DataFrame\n",
      "Columns: [CustomerId, OrderId, ProductGroupId, Quantity, OrderDate, OrderMonth, Year]\n",
      "Index: []\n",
      "Year 2016\n",
      "           CustomerId  OrderId  ProductGroupId  Quantity  OrderDate  \\\n",
      "ProductId                                                             \n",
      "22307             818      818             818       818        818   \n",
      "21346             302      302             302       302        302   \n",
      "22275             258      258             258       258        258   \n",
      "\n",
      "           OrderMonth  Year  \n",
      "ProductId                    \n",
      "22307             818   818  \n",
      "21346             302   302  \n",
      "22275             258   258  \n",
      "Year 2017\n",
      "           CustomerId  OrderId  ProductGroupId  Quantity  OrderDate  \\\n",
      "ProductId                                                             \n",
      "22307            1199     1199            1199      1199       1199   \n",
      "21346             981      981             981       981        981   \n",
      "1289              372      372             372       372        372   \n",
      "\n",
      "           OrderMonth  Year  \n",
      "ProductId                    \n",
      "22307            1199  1199  \n",
      "21346             981   981  \n",
      "1289              372   372  \n",
      "Year 2018\n",
      "           CustomerId  OrderId  ProductGroupId  Quantity  OrderDate  \\\n",
      "ProductId                                                             \n",
      "22307             643      643             643       643        643   \n",
      "40                437      437             437       437        437   \n",
      "682               408      408             408       408        408   \n",
      "\n",
      "           OrderMonth  Year  \n",
      "ProductId                    \n",
      "22307             643   643  \n",
      "40                437   437  \n",
      "682               408   408  \n",
      "CPU times: total: 2.75 s\n",
      "Wall time: 2.9 s\n"
     ]
    }
   ],
   "source": [
    "%%time\n",
    "import datetime\n",
    "\n",
    "\"\"\" Bestverkaufte Produkte in der Vorweihnachtszeit pro Jahr \"\"\"\n",
    "df[\"Year\"] = df[\"OrderDate\"].dt.to_period(\"Y\")\n",
    "years = df.sort_values(by=\"OrderDate\")[\"Year\"].unique()\n",
    "\n",
    "for year in years:\n",
    "    print(\"Year \" + str(year))\n",
    "    products_year = df.groupby(by=[\"Year\"]).get_group(year)\n",
    "    startdate = datetime.datetime(year.year, 11, 16)\n",
    "    enddate = datetime.datetime(year.year, 12, 23)\n",
    "\n",
    "    mask = (products_year[\"OrderDate\"] >= startdate) & (products_year[\"OrderDate\"] <= enddate)\n",
    "    products_christmas_year = products_year.loc[mask]\n",
    "    print(products_christmas_year.groupby(by=[\"ProductId\"]).count().sort_values(by=\"Quantity\", ascending=False).head(3))"
   ],
   "metadata": {
    "collapsed": false,
    "pycharm": {
     "name": "#%%\n"
    }
   }
  },
  {
   "cell_type": "code",
   "execution_count": 17,
   "outputs": [
    {
     "name": "stdout",
     "output_type": "stream",
     "text": [
      "[(2015, 2), (2016, 27376), (2017, 2628470), (2018, 2628375)]\n",
      "[('Year: 2015', '100%', 'Amount of lines: 2'), ('Year: 2016', '1368700%', 'Amount of lines: 27376'), ('Year: 2017', '9501%', 'Amount of lines: 2628470'), ('Year: 2018', '0%', 'Amount of lines: 2628375')]\n",
      "CPU times: total: 2.44 s\n",
      "Wall time: 2.8 s\n"
     ]
    }
   ],
   "source": [
    "%%time\n",
    "\"\"\" Jährliche Wachstumsrate gemessen an den Order Line Items \"\"\"\n",
    "df[\"Year\"] = df[\"OrderDate\"].dt.to_period(\"Y\")\n",
    "years = df.sort_values(by=\"OrderDate\")[\"Year\"].unique()\n",
    "\n",
    "year_lines = []\n",
    "\n",
    "for year in years:\n",
    "    products_year = df.groupby(by=[\"Year\"]).get_group(year)\n",
    "\n",
    "    amount_of_lines = products_year.count()[\"CustomerId\"]\n",
    "    year_lines.append((year.year, amount_of_lines))\n",
    "\n",
    "print(year_lines)\n",
    "year_growthrate_lines = []\n",
    "\n",
    "prev = None\n",
    "for i in range(len(year_lines)):\n",
    "    if prev == None:\n",
    "        year_growthrate_lines.append(\n",
    "            (\"Year: \" + str(year_lines[i][0]), \"100%\", \"Amount of lines: \" + str(year_lines[i][1])))\n",
    "        prev = year_lines[i]\n",
    "    else:\n",
    "        growthrate = (year_lines[i][1] / prev[1] - 1) * 100\n",
    "        year_growthrate_lines.append(\n",
    "            (\"Year: \" + str(year_lines[i][0]), str(int(growthrate)) + \"%\", \"Amount of lines: \" + str(year_lines[i][1])))\n",
    "        prev = year_lines[i]\n",
    "\n",
    "print(year_growthrate_lines)"
   ],
   "metadata": {
    "collapsed": false,
    "pycharm": {
     "name": "#%%\n"
    }
   }
  },
  {
   "cell_type": "code",
   "execution_count": 16,
   "outputs": [
    {
     "name": "stdout",
     "output_type": "stream",
     "text": [
      "[(2015, 1), (2016, 7387), (2017, 758969), (2018, 763670)]\n",
      "[('Year: 2015', '100%', 'Amount of orders: 1'), ('Year: 2016', '738600%', 'Amount of orders: 7387'), ('Year: 2017', '10174%', 'Amount of orders: 758969'), ('Year: 2018', '0%', 'Amount of orders: 763670')]\n",
      "CPU times: total: 2.53 s\n",
      "Wall time: 2.86 s\n"
     ]
    }
   ],
   "source": [
    "%%time\n",
    "\n",
    "\"\"\" Jährliche Wachstumsrate gemessen an der Anzahl Orders \"\"\"\n",
    "df[\"Year\"] = df[\"OrderDate\"].dt.to_period(\"Y\")\n",
    "years = df.sort_values(by=\"OrderDate\")[\"Year\"].unique()\n",
    "year_orders = []\n",
    "\n",
    "for year in years:\n",
    "    products_year = df.groupby(by=[\"Year\"]).get_group(year)\n",
    "\n",
    "    amount_of_orders = products_year[\"OrderId\"].nunique()\n",
    "    year_orders.append((year.year, amount_of_orders))\n",
    "\n",
    "print(year_orders)\n",
    "year_growthrate_orders = []\n",
    "\n",
    "prev = None\n",
    "for i in range(len(year_orders)):\n",
    "    if prev is None:\n",
    "        year_growthrate_orders.append(\n",
    "            (\"Year: \" + str(year_orders[i][0]), \"100%\", \"Amount of orders: \" + str(year_orders[i][1])))\n",
    "        prev = year_orders[i]\n",
    "    else:\n",
    "        growthrate = (year_orders[i][1] / prev[1] - 1) * 100\n",
    "        year_growthrate_orders.append((\"Year: \" + str(year_orders[i][0]), str(int(growthrate)) + \"%\",\n",
    "                                       \"Amount of orders: \" + str(year_orders[i][1])))\n",
    "        prev = year_orders[i]\n",
    "\n",
    "print(year_growthrate_orders)"
   ],
   "metadata": {
    "collapsed": false,
    "pycharm": {
     "name": "#%%\n"
    }
   }
  },
  {
   "cell_type": "code",
   "execution_count": 8,
   "outputs": [
    {
     "name": "stdout",
     "output_type": "stream",
     "text": [
      "[(2015, 244.0), (2016, 32456285.539999995), (2017, 800175941.4219998), (2018, 732054503.7000006)]\n",
      "[('Year: 2015', '100%', 'Sum of quantities: 244.0'), ('Year: 2016', '13301656%', 'Sum of quantities: 32456285.539999995'), ('Year: 2017', '2365%', 'Sum of quantities: 800175941.4219998'), ('Year: 2018', '-8%', 'Sum of quantities: 732054503.7000006')]\n",
      "CPU times: total: 2.55 s\n",
      "Wall time: 3.31 s\n"
     ]
    }
   ],
   "source": [
    "%%time\n",
    "\n",
    "\"\"\" Jährliche Wachstumsrate gemessen an der Quantity \"\"\"\n",
    "df[\"Year\"] = df[\"OrderDate\"].dt.to_period(\"Y\")\n",
    "years = df.sort_values(by=\"OrderDate\")[\"Year\"].unique()\n",
    "year_quantities = []\n",
    "\n",
    "for year in years:\n",
    "    products_year = df.groupby(by=[\"Year\"]).get_group(year)\n",
    "\n",
    "    quantities = products_year[\"Quantity\"].sum()\n",
    "    year_quantities.append((year.year, quantities))\n",
    "    #print(products_year.groupby(by=[\"ProductId\"]).sum().sort_values(by=[\"Quantity\", \"ProductId\"]).head(10))\n",
    "\n",
    "print(year_quantities)\n",
    "year_growthrate_quantities = []\n",
    "\n",
    "prev = None\n",
    "for i in range(len(year_quantities)):\n",
    "    if prev is None:\n",
    "        year_growthrate_quantities.append(\n",
    "            (\"Year: \" + str(year_quantities[i][0]), \"100%\", \"Sum of quantities: \" + str(year_quantities[i][1])))\n",
    "        prev = year_quantities[i]\n",
    "    else:\n",
    "        growthrate = (year_quantities[i][1] / prev[1] - 1) * 100\n",
    "        year_growthrate_quantities.append((\"Year: \" + str(year_quantities[i][0]), str(int(growthrate)) + \"%\",\n",
    "                                           \"Sum of quantities: \" + str(year_quantities[i][1])))\n",
    "        prev = year_quantities[i]\n",
    "\n",
    "print(year_growthrate_quantities)"
   ],
   "metadata": {
    "collapsed": false,
    "pycharm": {
     "name": "#%%\n"
    }
   }
  },
  {
   "cell_type": "markdown",
   "source": [
    "### Modin Pandas with Ray"
   ],
   "metadata": {
    "collapsed": false,
    "pycharm": {
     "name": "#%% md\n"
    }
   }
  },
  {
   "cell_type": "code",
   "execution_count": 9,
   "outputs": [
    {
     "name": "stdout",
     "output_type": "stream",
     "text": [
      "CPU times: total: 422 ms\n",
      "Wall time: 2.76 s\n"
     ]
    }
   ],
   "source": [
    "%%time\n",
    "import modin.pandas as mpd\n",
    "\n",
    "mdf = mpd.read_csv(\"../sales-data.csv\", parse_dates=[\"OrderDate\"])\n"
   ],
   "metadata": {
    "collapsed": false,
    "pycharm": {
     "name": "#%%\n"
    }
   }
  },
  {
   "cell_type": "code",
   "execution_count": 12,
   "outputs": [
    {
     "name": "stderr",
     "output_type": "stream",
     "text": [
      "UserWarning: User-defined function verification is still under development in Modin. The function provided is not verified.\n",
      " pid=142424)\u001B[0m Traceback (most recent call last):\r\n",
      " pid=142424)\u001B[0m   File \"python\\ray\\_raylet.pyx\", line 618, in ray._raylet.execute_task\r\n",
      " pid=142424)\u001B[0m   File \"python\\ray\\_raylet.pyx\", line 659, in ray._raylet.execute_task\r\n",
      " pid=142424)\u001B[0m   File \"python\\ray\\_raylet.pyx\", line 625, in ray._raylet.execute_task\r\n",
      " pid=142424)\u001B[0m   File \"python\\ray\\_raylet.pyx\", line 629, in ray._raylet.execute_task\r\n",
      " pid=142424)\u001B[0m   File \"<timed exec>\", line 9, in count_customer_orders\r\n",
      " pid=142424)\u001B[0m   File \"c:\\python38\\lib\\site-packages\\ray\\data\\dataset.py\", line 1784, in iter_rows\r\n",
      " pid=142424)\u001B[0m     for batch in self.iter_batches(\r\n",
      " pid=142424)\u001B[0m   File \"c:\\python38\\lib\\site-packages\\ray\\data\\dataset.py\", line 1864, in iter_batches\r\n",
      " pid=142424)\u001B[0m     ray.wait(block_window, num_returns=1, fetch_local=True)\r\n",
      " pid=142424)\u001B[0m   File \"c:\\python38\\lib\\site-packages\\ray\\_private\\client_mode_hook.py\", line 105, in wrapper\r\n",
      " pid=142424)\u001B[0m     return func(*args, **kwargs)\r\n",
      " pid=142424)\u001B[0m   File \"c:\\python38\\lib\\site-packages\\ray\\worker.py\", line 1886, in wait\r\n",
      " pid=142424)\u001B[0m     ready_ids, remaining_ids = worker.core_worker.wait(\r\n",
      " pid=142424)\u001B[0m   File \"python\\ray\\_raylet.pyx\", line 1367, in ray._raylet.CoreWorker.wait\r\n",
      " pid=142424)\u001B[0m   File \"python\\ray\\_raylet.pyx\", line 160, in ray._raylet.check_status\r\n",
      " pid=142424)\u001B[0m ray.exceptions.RaySystemError: System error: Unknown error\r\n",
      " pid=142424)\u001B[0m ustomer_orders\r\n",
      " pid=142424)\u001B[0m During handling of the above exception, another exception occurred:\r\n",
      " pid=142424)\u001B[0m ustomer_orders\r\n",
      " pid=142424)\u001B[0m Traceback (most recent call last):\r\n",
      " pid=142424)\u001B[0m   File \"python\\ray\\_raylet.pyx\", line 759, in ray._raylet.task_execution_handler\r\n",
      " pid=142424)\u001B[0m   File \"python\\ray\\_raylet.pyx\", line 580, in ray._raylet.execute_task\r\n",
      " pid=142424)\u001B[0m   File \"python\\ray\\_raylet.pyx\", line 716, in ray._raylet.execute_task\r\n",
      " pid=142424)\u001B[0m   File \"c:\\python38\\lib\\site-packages\\ray\\_private\\utils.py\", line 117, in push_error_to_driver\r\n",
      " pid=142424)\u001B[0m     worker.core_worker.push_error(job_id, error_type, message, time.time())\r\n",
      " pid=142424)\u001B[0m   File \"python\\ray\\_raylet.pyx\", line 2072, in ray._raylet.CoreWorker.push_error\r\n",
      " pid=142424)\u001B[0m   File \"python\\ray\\_raylet.pyx\", line 160, in ray._raylet.check_status\r\n",
      " pid=142424)\u001B[0m ray.exceptions.RaySystemError: System error: Unknown error\r\n",
      " pid=142424)\u001B[0m ustomer_orders\r\n",
      " pid=142424)\u001B[0m During handling of the above exception, another exception occurred:\r\n",
      " pid=142424)\u001B[0m ustomer_orders\r\n",
      " pid=142424)\u001B[0m Traceback (most recent call last):\r\n",
      " pid=142424)\u001B[0m   File \"python\\ray\\_raylet.pyx\", line 783, in ray._raylet.task_execution_handler\r\n",
      " pid=142424)\u001B[0m   File \"c:\\python38\\lib\\site-packages\\ray\\_private\\utils.py\", line 117, in push_error_to_driver\r\n",
      " pid=142424)\u001B[0m     worker.core_worker.push_error(job_id, error_type, message, time.time())\r\n",
      " pid=142424)\u001B[0m   File \"python\\ray\\_raylet.pyx\", line 2072, in ray._raylet.CoreWorker.push_error\r\n",
      " pid=142424)\u001B[0m   File \"python\\ray\\_raylet.pyx\", line 160, in ray._raylet.check_status\r\n",
      " pid=142424)\u001B[0m ray.exceptions.RaySystemError: System error: Unknown error\r\n",
      " pid=142424)\u001B[0m Exception ignored in: 'ray._raylet.task_execution_handler'\r\n",
      " pid=142424)\u001B[0m Traceback (most recent call last):\r\n",
      " pid=142424)\u001B[0m   File \"python\\ray\\_raylet.pyx\", line 783, in ray._raylet.task_execution_handler\r\n",
      " pid=142424)\u001B[0m   File \"c:\\python38\\lib\\site-packages\\ray\\_private\\utils.py\", line 117, in push_error_to_driver\r\n",
      " pid=142424)\u001B[0m     worker.core_worker.push_error(job_id, error_type, message, time.time())\r\n",
      " pid=142424)\u001B[0m   File \"python\\ray\\_raylet.pyx\", line 2072, in ray._raylet.CoreWorker.push_error\r\n",
      " pid=142424)\u001B[0m   File \"python\\ray\\_raylet.pyx\", line 160, in ray._raylet.check_status\r\n",
      " pid=142424)\u001B[0m ray.exceptions.RaySystemError: System error: Unknown error\r\n",
      " pid=172708)\u001B[0m Traceback (most recent call last):\r\n",
      " pid=172708)\u001B[0m   File \"python\\ray\\_raylet.pyx\", line 618, in ray._raylet.execute_task\r\n",
      " pid=172708)\u001B[0m   File \"python\\ray\\_raylet.pyx\", line 659, in ray._raylet.execute_task\r\n",
      " pid=172708)\u001B[0m   File \"python\\ray\\_raylet.pyx\", line 625, in ray._raylet.execute_task\r\n",
      " pid=172708)\u001B[0m   File \"python\\ray\\_raylet.pyx\", line 629, in ray._raylet.execute_task\r\n",
      " pid=172708)\u001B[0m   File \"<timed exec>\", line 9, in count_customer_orders\r\n",
      " pid=172708)\u001B[0m   File \"c:\\python38\\lib\\site-packages\\ray\\data\\dataset.py\", line 1784, in iter_rows\r\n",
      " pid=172708)\u001B[0m     for batch in self.iter_batches(\r\n",
      " pid=172708)\u001B[0m   File \"c:\\python38\\lib\\site-packages\\ray\\data\\dataset.py\", line 1864, in iter_batches\r\n",
      " pid=172708)\u001B[0m     ray.wait(block_window, num_returns=1, fetch_local=True)\r\n",
      " pid=172708)\u001B[0m   File \"c:\\python38\\lib\\site-packages\\ray\\_private\\client_mode_hook.py\", line 105, in wrapper\r\n",
      " pid=172708)\u001B[0m     return func(*args, **kwargs)\r\n",
      " pid=172708)\u001B[0m   File \"c:\\python38\\lib\\site-packages\\ray\\worker.py\", line 1886, in wait\r\n",
      " pid=172708)\u001B[0m     ready_ids, remaining_ids = worker.core_worker.wait(\r\n",
      " pid=172708)\u001B[0m   File \"python\\ray\\_raylet.pyx\", line 1367, in ray._raylet.CoreWorker.wait\r\n",
      " pid=172708)\u001B[0m   File \"python\\ray\\_raylet.pyx\", line 160, in ray._raylet.check_status\r\n",
      " pid=172708)\u001B[0m ray.exceptions.RaySystemError: System error: Unknown error\r\n",
      " pid=172708)\u001B[0m ustomer_orders\r\n",
      " pid=172708)\u001B[0m During handling of the above exception, another exception occurred:\r\n",
      " pid=172708)\u001B[0m ustomer_orders\r\n",
      " pid=172708)\u001B[0m Traceback (most recent call last):\r\n",
      " pid=172708)\u001B[0m   File \"python\\ray\\_raylet.pyx\", line 759, in ray._raylet.task_execution_handler\r\n",
      " pid=172708)\u001B[0m   File \"python\\ray\\_raylet.pyx\", line 580, in ray._raylet.execute_task\r\n",
      " pid=172708)\u001B[0m   File \"python\\ray\\_raylet.pyx\", line 716, in ray._raylet.execute_task\r\n",
      " pid=172708)\u001B[0m   File \"c:\\python38\\lib\\site-packages\\ray\\_private\\utils.py\", line 117, in push_error_to_driver\r\n",
      " pid=172708)\u001B[0m     worker.core_worker.push_error(job_id, error_type, message, time.time())\r\n",
      " pid=172708)\u001B[0m   File \"python\\ray\\_raylet.pyx\", line 2072, in ray._raylet.CoreWorker.push_error\r\n",
      " pid=172708)\u001B[0m   File \"python\\ray\\_raylet.pyx\", line 160, in ray._raylet.check_status\r\n",
      " pid=172708)\u001B[0m ray.exceptions.RaySystemError: System error: Unknown error\r\n",
      " pid=172708)\u001B[0m ustomer_orders\r\n",
      " pid=172708)\u001B[0m During handling of the above exception, another exception occurred:\r\n",
      " pid=172708)\u001B[0m ustomer_orders\r\n",
      " pid=172708)\u001B[0m Traceback (most recent call last):\r\n",
      " pid=172708)\u001B[0m   File \"python\\ray\\_raylet.pyx\", line 783, in ray._raylet.task_execution_handler\r\n",
      " pid=172708)\u001B[0m   File \"c:\\python38\\lib\\site-packages\\ray\\_private\\utils.py\", line 117, in push_error_to_driver\r\n",
      " pid=172708)\u001B[0m     worker.core_worker.push_error(job_id, error_type, message, time.time())\r\n",
      " pid=172708)\u001B[0m   File \"python\\ray\\_raylet.pyx\", line 2072, in ray._raylet.CoreWorker.push_error\r\n",
      " pid=172708)\u001B[0m   File \"python\\ray\\_raylet.pyx\", line 160, in ray._raylet.check_status\r\n",
      " pid=172708)\u001B[0m ray.exceptions.RaySystemError: System error: Unknown error\r\n",
      " pid=172708)\u001B[0m Exception ignored in: 'ray._raylet.task_execution_handler'\r\n",
      " pid=172708)\u001B[0m Traceback (most recent call last):\r\n",
      " pid=172708)\u001B[0m   File \"python\\ray\\_raylet.pyx\", line 783, in ray._raylet.task_execution_handler\r\n",
      " pid=172708)\u001B[0m   File \"c:\\python38\\lib\\site-packages\\ray\\_private\\utils.py\", line 117, in push_error_to_driver\r\n",
      " pid=172708)\u001B[0m     worker.core_worker.push_error(job_id, error_type, message, time.time())\r\n",
      " pid=172708)\u001B[0m   File \"python\\ray\\_raylet.pyx\", line 2072, in ray._raylet.CoreWorker.push_error\r\n",
      " pid=172708)\u001B[0m   File \"python\\ray\\_raylet.pyx\", line 160, in ray._raylet.check_status\r\n",
      " pid=172708)\u001B[0m ray.exceptions.RaySystemError: System error: Unknown error\r\n",
      "\u001B[2m\u001B[36m(pid=None)\u001B[0m [2022-01-29 13:26:45,427 E 129180 132348] local_object_manager.cc:32: Plasma object ffffffffffffffffffffffffffffffffffffffff0100000001000000 was evicted before the raylet could pin it.\r\n",
      "\u001B[2m\u001B[36m(pid=None)\u001B[0m [2022-01-29 13:26:45,449 C 129180 132348] local_object_manager.cc:88:  Check failed: (pinned_objects_.count(object_id) > 0) || (spilled_objects_url_.count(object_id) > 0) || (objects_pending_spill_.count(object_id) > 0) \n",
      "\u001B[2m\u001B[36m(pid=None)\u001B[0m *** StackTrace Information ***\n",
      "\u001B[2m\u001B[36m(pid=None)\u001B[0m     BaseThreadInitThunk\n",
      "\u001B[2m\u001B[36m(pid=None)\u001B[0m     RtlUserThreadStart\n",
      "\u001B[2m\u001B[36m(pid=None)\u001B[0m \r\n",
      "2022-01-29 13:27:14,365\tWARNING worker.py:1245 -- The node with node id: c5c89c606606ca1a228f5b12d3ab32c0971327fe1035e9fdd0a0b702 and ip: 127.0.0.1 has been marked dead because the detector has missed too many heartbeats from it. This can happen when a raylet crashes unexpectedly or has lagging heartbeats.\n",
      "2022-01-29 13:27:14,421\tERROR import_thread.py:89 -- ImportThread: [WinError 10054] Eine vorhandene Verbindung wurde vom Remotehost geschlossen\n",
      "2022-01-29 13:27:14,423\tERROR worker.py:478 -- print_logs: [WinError 10054] Eine vorhandene Verbindung wurde vom Remotehost geschlossen\n",
      "2022-01-29 13:27:14,424\tERROR worker.py:1247 -- listen_error_messages_raylet: [WinError 10054] Eine vorhandene Verbindung wurde vom Remotehost geschlossen\n",
      "\n",
      "KeyboardInterrupt\n",
      "\n"
     ]
    }
   ],
   "source": [
    "%%time\n",
    "\n",
    "\"\"\" Top 10 Customers\"\"\"\n",
    "mdf.drop_duplicates([\"CustomerId\", \"OrderId\"]).groupby(by=[\"CustomerId\"]).count().sort_values(by=\"OrderId\", ascending=False).head(10)[\"OrderId\"]"
   ],
   "metadata": {
    "collapsed": false,
    "pycharm": {
     "name": "#%%\n"
    }
   }
  },
  {
   "cell_type": "code",
   "execution_count": 10,
   "outputs": [
    {
     "name": "stdout",
     "output_type": "stream",
     "text": [
      "CPU times: total: 156 ms\n",
      "Wall time: 1.47 s\n"
     ]
    },
    {
     "name": "stderr",
     "output_type": "stream",
     "text": [
      "UserWarning: sort_values defaulting to pandas implementation.\n",
      "To request implementation, send an email to feature_requests@modin.org.\n"
     ]
    },
    {
     "data": {
      "text/plain": "OrderMonth\n2017-11    7.543293e+07\n2017-03    7.459200e+07\n2017-10    7.223356e+07\n2017-06    7.191025e+07\n2017-05    6.984081e+07\n2018-06    6.936298e+07\n2018-10    6.857377e+07\n2018-02    6.821900e+07\n2017-02    6.666570e+07\n2018-03    6.664240e+07\nName: Quantity, dtype: float64"
     },
     "execution_count": 10,
     "metadata": {},
     "output_type": "execute_result"
    }
   ],
   "source": [
    "%%time\n",
    "\n",
    "\"\"\" Top Sold Products per Month\"\"\"\n",
    "mdf[\"OrderMonth\"] = mdf[\"OrderDate\"].dt.to_period('M')\n",
    "mdf.groupby(by='OrderMonth').sum().sort_values(by=\"Quantity\", ascending=False).head(10)[\"Quantity\"]\n"
   ],
   "metadata": {
    "collapsed": false,
    "pycharm": {
     "name": "#%%\n"
    }
   }
  },
  {
   "cell_type": "code",
   "execution_count": 11,
   "outputs": [
    {
     "name": "stderr",
     "output_type": "stream",
     "text": [
      "UserWarning: sort_values defaulting to pandas implementation.\n"
     ]
    },
    {
     "name": "stdout",
     "output_type": "stream",
     "text": [
      "Year 2015\n"
     ]
    },
    {
     "name": "stderr",
     "output_type": "stream",
     "text": [
      "UserWarning: `DataFrame.groupby_on_multiple_columns` defaulting to pandas implementation.\n",
      "FutureWarning: The `squeeze` parameter is deprecated and will be removed in a future version.\n",
      "UserWarning: Distributing <class 'pandas.core.frame.DataFrame'> object. This may take some time.\n"
     ]
    },
    {
     "name": "stdout",
     "output_type": "stream",
     "text": [
      "ProductId\n",
      "48222     1\n",
      "116532    1\n",
      "Name: OrderId, dtype: int64\n",
      "\n",
      "Year 2016\n",
      "ProductId\n",
      "2     1\n",
      "9     1\n",
      "16    1\n",
      "17    1\n",
      "18    1\n",
      "38    1\n",
      "39    1\n",
      "43    1\n",
      "50    1\n",
      "56    1\n",
      "Name: OrderId, dtype: int64\n",
      "\n",
      "Year 2017\n",
      "ProductId\n",
      "231     1\n",
      "429     1\n",
      "441     1\n",
      "1014    1\n",
      "1342    1\n",
      "1413    1\n",
      "1621    1\n",
      "1663    1\n",
      "1675    1\n",
      "1709    1\n",
      "Name: OrderId, dtype: int64\n",
      "\n",
      "Year 2018\n",
      "ProductId\n",
      "204     1\n",
      "248     1\n",
      "429     1\n",
      "469     1\n",
      "593     1\n",
      "853     1\n",
      "935     1\n",
      "939     1\n",
      "978     1\n",
      "1019    1\n",
      "Name: OrderId, dtype: int64\n",
      "\n",
      "CPU times: total: 4.95 s\n",
      "Wall time: 10 s\n"
     ]
    }
   ],
   "source": [
    "%%time\n",
    "\n",
    "\"\"\" Produkte die pro Jahr am wenigsten gekauft wurden  \"\"\"\n",
    "mdf[\"Year\"] = mdf[\"OrderDate\"].dt.to_period(\"Y\")\n",
    "years = mdf.sort_values(by=\"OrderDate\")[\"Year\"].unique()\n",
    "\n",
    "for year in years:\n",
    "    print(\"Year \" + str(year))\n",
    "    products_year = mdf.groupby(by=[\"Year\"]).get_group(year)\n",
    "    print(products_year.groupby(by=[\"ProductId\"]).count().sort_values(by=[\"Quantity\", \"ProductId\"]).head(10)[\"OrderId\"])\n",
    "    print()\n"
   ],
   "metadata": {
    "collapsed": false,
    "pycharm": {
     "name": "#%%\n"
    }
   }
  },
  {
   "cell_type": "code",
   "execution_count": 12,
   "outputs": [
    {
     "name": "stderr",
     "output_type": "stream",
     "text": [
      "UserWarning: sort_values defaulting to pandas implementation.\n"
     ]
    },
    {
     "name": "stdout",
     "output_type": "stream",
     "text": [
      "Year 2015\n"
     ]
    },
    {
     "name": "stderr",
     "output_type": "stream",
     "text": [
      "UserWarning: `DataFrame.groupby_on_multiple_columns` defaulting to pandas implementation.\n",
      "FutureWarning: The `squeeze` parameter is deprecated and will be removed in a future version.\n",
      "UserWarning: Distributing <class 'pandas.core.frame.DataFrame'> object. This may take some time.\n",
      "UserWarning: `DataFrame.groupby` for empty DataFrame defaulting to pandas implementation.\n",
      "UserWarning: `DataFrame.groupby_on_multiple_columns` defaulting to pandas implementation.\n"
     ]
    },
    {
     "name": "stdout",
     "output_type": "stream",
     "text": [
      "Empty DataFrame\n",
      "Columns: [CustomerId, OrderId, ProductGroupId, Quantity, OrderDate, OrderMonth, Year]\n",
      "Index: []\n",
      "Year 2016\n"
     ]
    },
    {
     "name": "stderr",
     "output_type": "stream",
     "text": [
      "FutureWarning: The `squeeze` parameter is deprecated and will be removed in a future version.\n",
      "UserWarning: Distributing <class 'pandas.core.frame.DataFrame'> object. This may take some time.\n",
      "UserWarning: sort_values defaulting to pandas implementation.\n",
      "UserWarning: `DataFrame.groupby_on_multiple_columns` defaulting to pandas implementation.\n"
     ]
    },
    {
     "name": "stdout",
     "output_type": "stream",
     "text": [
      "           CustomerId  OrderId  ProductGroupId  Quantity  OrderDate  \\\n",
      "ProductId                                                             \n",
      "22307             818      818             818       818        818   \n",
      "21346             302      302             302       302        302   \n",
      "22275             258      258             258       258        258   \n",
      "\n",
      "           OrderMonth  Year  \n",
      "ProductId                    \n",
      "22307             818   818  \n",
      "21346             302   302  \n",
      "22275             258   258  \n",
      "Year 2017\n"
     ]
    },
    {
     "name": "stderr",
     "output_type": "stream",
     "text": [
      "FutureWarning: The `squeeze` parameter is deprecated and will be removed in a future version.\n",
      "UserWarning: Distributing <class 'pandas.core.frame.DataFrame'> object. This may take some time.\n",
      "UserWarning: sort_values defaulting to pandas implementation.\n",
      "UserWarning: `DataFrame.groupby_on_multiple_columns` defaulting to pandas implementation.\n"
     ]
    },
    {
     "name": "stdout",
     "output_type": "stream",
     "text": [
      "           CustomerId  OrderId  ProductGroupId  Quantity  OrderDate  \\\n",
      "ProductId                                                             \n",
      "22307            1199     1199            1199      1199       1199   \n",
      "21346             981      981             981       981        981   \n",
      "1289              372      372             372       372        372   \n",
      "\n",
      "           OrderMonth  Year  \n",
      "ProductId                    \n",
      "22307            1199  1199  \n",
      "21346             981   981  \n",
      "1289              372   372  \n",
      "Year 2018\n"
     ]
    },
    {
     "name": "stderr",
     "output_type": "stream",
     "text": [
      "FutureWarning: The `squeeze` parameter is deprecated and will be removed in a future version.\n",
      "UserWarning: Distributing <class 'pandas.core.frame.DataFrame'> object. This may take some time.\n"
     ]
    },
    {
     "name": "stdout",
     "output_type": "stream",
     "text": [
      "           CustomerId  OrderId  ProductGroupId  Quantity  OrderDate  \\\n",
      "ProductId                                                             \n",
      "22307             643      643             643       643        643   \n",
      "40                437      437             437       437        437   \n",
      "682               408      408             408       408        408   \n",
      "\n",
      "           OrderMonth  Year  \n",
      "ProductId                    \n",
      "22307             643   643  \n",
      "40                437   437  \n",
      "682               408   408  \n",
      "CPU times: total: 6.3 s\n",
      "Wall time: 9.82 s\n"
     ]
    },
    {
     "name": "stderr",
     "output_type": "stream",
     "text": [
      "UserWarning: sort_values defaulting to pandas implementation.\n"
     ]
    }
   ],
   "source": [
    "%%time\n",
    "import datetime\n",
    "\n",
    "\"\"\" Bestverkaufte Produkte in der Vorweihnachtszeit pro Jahr \"\"\"\n",
    "mdf[\"Year\"] = mdf[\"OrderDate\"].dt.to_period(\"Y\")\n",
    "years = mdf.sort_values(by=\"OrderDate\")[\"Year\"].unique()\n",
    "\n",
    "for year in years:\n",
    "    print(\"Year \" + str(year))\n",
    "    products_year = mdf.groupby(by=[\"Year\"]).get_group(year)\n",
    "    startdate = datetime.datetime(year.year, 11, 16)\n",
    "    enddate = datetime.datetime(year.year, 12, 23)\n",
    "\n",
    "    mask = (products_year[\"OrderDate\"] >= startdate) & (products_year[\"OrderDate\"] <= enddate)\n",
    "    products_christmas_year = products_year.loc[mask]\n",
    "    print(products_christmas_year.groupby(by=[\"ProductId\"]).count().sort_values(by=\"Quantity\", ascending=False).head(3))"
   ],
   "metadata": {
    "collapsed": false,
    "pycharm": {
     "name": "#%%\n"
    }
   }
  },
  {
   "cell_type": "code",
   "execution_count": 13,
   "outputs": [
    {
     "name": "stderr",
     "output_type": "stream",
     "text": [
      "UserWarning: sort_values defaulting to pandas implementation.\n",
      "UserWarning: `DataFrame.groupby_on_multiple_columns` defaulting to pandas implementation.\n",
      "FutureWarning: The `squeeze` parameter is deprecated and will be removed in a future version.\n",
      "UserWarning: Distributing <class 'pandas.core.frame.DataFrame'> object. This may take some time.\n"
     ]
    },
    {
     "name": "stdout",
     "output_type": "stream",
     "text": [
      "[(2015, 2), (2016, 27376), (2017, 2628470), (2018, 2628375)]\n",
      "[('Year: 2015', '100%', 'Amount of lines: 2'), ('Year: 2016', '1368700%', 'Amount of lines: 27376'), ('Year: 2017', '9501%', 'Amount of lines: 2628470'), ('Year: 2018', '0%', 'Amount of lines: 2628375')]\n",
      "CPU times: total: 4.17 s\n",
      "Wall time: 7.37 s\n"
     ]
    }
   ],
   "source": [
    "%%time\n",
    "\"\"\" Jährliche Wachstumsrate gemessen an den Order Line Items \"\"\"\n",
    "mdf[\"Year\"] = mdf[\"OrderDate\"].dt.to_period(\"Y\")\n",
    "years = mdf.sort_values(by=\"OrderDate\")[\"Year\"].unique()\n",
    "\n",
    "year_lines = []\n",
    "\n",
    "for year in years:\n",
    "    products_year = mdf.groupby(by=[\"Year\"]).get_group(year)\n",
    "\n",
    "    amount_of_lines = products_year.count()[\"CustomerId\"]\n",
    "    year_lines.append((year.year, amount_of_lines))\n",
    "\n",
    "print(year_lines)\n",
    "year_growthrate_lines = []\n",
    "\n",
    "prev = None\n",
    "for i in range(len(year_lines)):\n",
    "    if prev == None:\n",
    "        year_growthrate_lines.append(\n",
    "            (\"Year: \" + str(year_lines[i][0]), \"100%\", \"Amount of lines: \" + str(year_lines[i][1])))\n",
    "        prev = year_lines[i]\n",
    "    else:\n",
    "        growthrate = (year_lines[i][1] / prev[1] - 1) * 100\n",
    "        year_growthrate_lines.append(\n",
    "            (\"Year: \" + str(year_lines[i][0]), str(int(growthrate)) + \"%\", \"Amount of lines: \" + str(year_lines[i][1])))\n",
    "        prev = year_lines[i]\n",
    "\n",
    "print(year_growthrate_lines)\n"
   ],
   "metadata": {
    "collapsed": false,
    "pycharm": {
     "name": "#%%\n"
    }
   }
  },
  {
   "cell_type": "code",
   "execution_count": 14,
   "outputs": [
    {
     "name": "stderr",
     "output_type": "stream",
     "text": [
      "UserWarning: sort_values defaulting to pandas implementation.\n",
      "UserWarning: `DataFrame.groupby_on_multiple_columns` defaulting to pandas implementation.\n",
      "FutureWarning: The `squeeze` parameter is deprecated and will be removed in a future version.\n",
      "UserWarning: Distributing <class 'pandas.core.frame.DataFrame'> object. This may take some time.\n"
     ]
    },
    {
     "name": "stdout",
     "output_type": "stream",
     "text": [
      "[(2015, 1), (2016, 7387), (2017, 758969), (2018, 763670)]\n",
      "[('Year: 2015', '100%', 'Amount of orders: 1'), ('Year: 2016', '738600%', 'Amount of orders: 7387'), ('Year: 2017', '10174%', 'Amount of orders: 758969'), ('Year: 2018', '0%', 'Amount of orders: 763670')]\n",
      "CPU times: total: 4.45 s\n",
      "Wall time: 8.06 s\n"
     ]
    }
   ],
   "source": [
    "%%time\n",
    "\n",
    "\"\"\" Jährliche Wachstumsrate gemessen an der Anzahl Orders \"\"\"\n",
    "mdf[\"Year\"] = mdf[\"OrderDate\"].dt.to_period(\"Y\")\n",
    "years = mdf.sort_values(by=\"OrderDate\")[\"Year\"].unique()\n",
    "year_orders = []\n",
    "\n",
    "for year in years:\n",
    "    products_year = mdf.groupby(by=[\"Year\"]).get_group(year)\n",
    "\n",
    "    amount_of_orders = products_year[\"OrderId\"].nunique()\n",
    "    year_orders.append((year.year, amount_of_orders))\n",
    "\n",
    "print(year_orders)\n",
    "year_growthrate_orders = []\n",
    "\n",
    "prev = None\n",
    "for i in range(len(year_orders)):\n",
    "    if prev is None:\n",
    "        year_growthrate_orders.append(\n",
    "            (\"Year: \" + str(year_orders[i][0]), \"100%\", \"Amount of orders: \" + str(year_orders[i][1])))\n",
    "        prev = year_orders[i]\n",
    "    else:\n",
    "        growthrate = (year_orders[i][1] / prev[1] - 1) * 100\n",
    "        year_growthrate_orders.append((\"Year: \" + str(year_orders[i][0]), str(int(growthrate)) + \"%\",\n",
    "                                       \"Amount of orders: \" + str(year_orders[i][1])))\n",
    "        prev = year_orders[i]\n",
    "\n",
    "print(year_growthrate_orders)\n"
   ],
   "metadata": {
    "collapsed": false,
    "pycharm": {
     "name": "#%%\n"
    }
   }
  },
  {
   "cell_type": "code",
   "execution_count": 15,
   "outputs": [
    {
     "name": "stderr",
     "output_type": "stream",
     "text": [
      "UserWarning: sort_values defaulting to pandas implementation.\n",
      "UserWarning: `DataFrame.groupby_on_multiple_columns` defaulting to pandas implementation.\n",
      "FutureWarning: The `squeeze` parameter is deprecated and will be removed in a future version.\n",
      "UserWarning: Distributing <class 'pandas.core.frame.DataFrame'> object. This may take some time.\n"
     ]
    },
    {
     "name": "stdout",
     "output_type": "stream",
     "text": [
      "[(2015, 244.0), (2016, 32456285.54), (2017, 800175941.4219999), (2018, 732054503.7)]\n",
      "[('Year: 2015', '100%', 'Sum of quantities: 244.0'), ('Year: 2016', '13301656%', 'Sum of quantities: 32456285.54'), ('Year: 2017', '2365%', 'Sum of quantities: 800175941.4219999'), ('Year: 2018', '-8%', 'Sum of quantities: 732054503.7')]\n",
      "CPU times: total: 4.11 s\n",
      "Wall time: 6.93 s\n"
     ]
    }
   ],
   "source": [
    "%%time\n",
    "\n",
    "\"\"\" Jährliche Wachstumsrate gemessen an der Quantity \"\"\"\n",
    "mdf[\"Year\"] = mdf[\"OrderDate\"].dt.to_period(\"Y\")\n",
    "years = mdf.sort_values(by=\"OrderDate\")[\"Year\"].unique()\n",
    "year_quantities = []\n",
    "\n",
    "for year in years:\n",
    "    products_year = mdf.groupby(by=[\"Year\"]).get_group(year)\n",
    "\n",
    "    quantities = products_year[\"Quantity\"].sum()\n",
    "    year_quantities.append((year.year, quantities))\n",
    "    #print(products_year.groupby(by=[\"ProductId\"]).sum().sort_values(by=[\"Quantity\", \"ProductId\"]).head(10))\n",
    "\n",
    "print(year_quantities)\n",
    "year_growthrate_quantities = []\n",
    "\n",
    "prev = None\n",
    "for i in range(len(year_quantities)):\n",
    "    if prev is None:\n",
    "        year_growthrate_quantities.append(\n",
    "            (\"Year: \" + str(year_quantities[i][0]), \"100%\", \"Sum of quantities: \" + str(year_quantities[i][1])))\n",
    "        prev = year_quantities[i]\n",
    "    else:\n",
    "        growthrate = (year_quantities[i][1] / prev[1] - 1) * 100\n",
    "        year_growthrate_quantities.append((\"Year: \" + str(year_quantities[i][0]), str(int(growthrate)) + \"%\",\n",
    "                                           \"Sum of quantities: \" + str(year_quantities[i][1])))\n",
    "        prev = year_quantities[i]\n",
    "\n",
    "print(year_growthrate_quantities)"
   ],
   "metadata": {
    "collapsed": false,
    "pycharm": {
     "name": "#%%\n"
    }
   }
  }
 ],
 "metadata": {
  "kernelspec": {
   "display_name": "Python 3",
   "language": "python",
   "name": "python3"
  },
  "language_info": {
   "codemirror_mode": {
    "name": "ipython",
    "version": 2
   },
   "file_extension": ".py",
   "mimetype": "text/x-python",
   "name": "python",
   "nbconvert_exporter": "python",
   "pygments_lexer": "ipython2",
   "version": "2.7.6"
  }
 },
 "nbformat": 4,
 "nbformat_minor": 0
}
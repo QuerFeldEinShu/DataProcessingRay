{
 "cells": [
  {
   "cell_type": "markdown",
   "source": [
    "### Plain Pandas"
   ],
   "metadata": {
    "collapsed": false,
    "pycharm": {
     "name": "#%% md\n"
    }
   }
  },
  {
   "cell_type": "code",
   "execution_count": 1,
   "outputs": [
    {
     "name": "stderr",
     "output_type": "stream",
     "text": [
      "2022-01-28 15:00:28,144\tINFO services.py:1338 -- View the Ray dashboard at \u001B[1m\u001B[32mhttp://127.0.0.1:8265\u001B[39m\u001B[22m\n"
     ]
    },
    {
     "name": "stdout",
     "output_type": "stream",
     "text": [
      "CPU times: total: 594 ms\n",
      "Wall time: 8.39 s\n"
     ]
    },
    {
     "data": {
      "text/plain": "{'node_ip_address': '127.0.0.1',\n 'raylet_ip_address': '127.0.0.1',\n 'redis_address': '127.0.0.1:6379',\n 'object_store_address': 'tcp://127.0.0.1:59368',\n 'raylet_socket_name': 'tcp://127.0.0.1:58994',\n 'webui_url': '127.0.0.1:8265',\n 'session_dir': 'C:\\\\Users\\\\Florian\\\\AppData\\\\Local\\\\Temp\\\\ray\\\\session_2022-01-28_15-00-23_239963_179476',\n 'metrics_export_port': 61643,\n 'node_id': 'efef5c9c53b351f1e349c229d2c51d6f525c097cb138f0f2633b285c'}"
     },
     "execution_count": 1,
     "metadata": {},
     "output_type": "execute_result"
    }
   ],
   "source": [
    "% % time\n",
    "import ray\n",
    "\n",
    "ray.init()"
   ],
   "metadata": {
    "collapsed": false,
    "pycharm": {
     "name": "#%%\n"
    }
   }
  },
  {
   "cell_type": "markdown",
   "source": [
    "### Pandas"
   ],
   "metadata": {
    "collapsed": false,
    "pycharm": {
     "name": "#%% md\n"
    }
   }
  },
  {
   "cell_type": "code",
   "execution_count": 21,
   "outputs": [
    {
     "name": "stdout",
     "output_type": "stream",
     "text": [
      "CPU times: total: 3.38 s\n",
      "Wall time: 4.34 s\n"
     ]
    }
   ],
   "source": [
    "% % time\n",
    "import pandas as pd\n",
    "\n",
    "df = pd.read_csv(\"../sales-data.csv\", parse_dates=[\"OrderDate\"])"
   ],
   "metadata": {
    "collapsed": false,
    "pycharm": {
     "name": "#%%\n"
    }
   }
  },
  {
   "cell_type": "code",
   "execution_count": 3,
   "outputs": [
    {
     "name": "stdout",
     "output_type": "stream",
     "text": [
      "CPU times: total: 719 ms\n",
      "Wall time: 972 ms\n"
     ]
    },
    {
     "data": {
      "text/plain": "CustomerId\n12835    11805\n15       11141\n9729     10239\n14        9116\n55        8914\n12708     7915\n69        7599\n12823     7512\n16        7471\n3493      7455\nName: OrderId, dtype: int64"
     },
     "execution_count": 3,
     "metadata": {},
     "output_type": "execute_result"
    }
   ],
   "source": [
    "% % time\n",
    "import pandas as pd\n",
    "\n",
    "\"\"\"Top 10 customers\"\"\"\n",
    "df.drop_duplicates([\"CustomerId\", \"OrderId\"]).groupby(by=[\"CustomerId\"]).count().sort_values(by=\"OrderId\",\n",
    "                                                                                             ascending=False).head(10)[\n",
    "    \"OrderId\"]"
   ],
   "metadata": {
    "collapsed": false,
    "pycharm": {
     "name": "#%%\n"
    }
   }
  },
  {
   "cell_type": "code",
   "execution_count": 4,
   "outputs": [
    {
     "name": "stdout",
     "output_type": "stream",
     "text": [
      "CPU times: total: 906 ms\n",
      "Wall time: 1.11 s\n"
     ]
    },
    {
     "data": {
      "text/plain": "OrderMonth\n2017-11    7.543293e+07\n2017-03    7.459200e+07\n2017-10    7.223356e+07\n2017-06    7.191025e+07\n2017-05    6.984081e+07\n2018-06    6.936298e+07\n2018-10    6.857377e+07\n2018-02    6.821900e+07\n2017-02    6.666570e+07\n2018-03    6.664240e+07\nFreq: M, Name: Quantity, dtype: float64"
     },
     "execution_count": 4,
     "metadata": {},
     "output_type": "execute_result"
    }
   ],
   "source": [
    "% % time\n",
    "\n",
    "\"\"\" Top Sold Products per Month\"\"\"\n",
    "df[\"OrderMonth\"] = df[\"OrderDate\"].dt.to_period('M')\n",
    "df.groupby(by='OrderMonth').sum().sort_values(by=\"Quantity\", ascending=False).head(10)[\"Quantity\"]"
   ],
   "metadata": {
    "collapsed": false,
    "pycharm": {
     "name": "#%%\n"
    }
   }
  },
  {
   "cell_type": "code",
   "execution_count": 23,
   "outputs": [
    {
     "name": "stdout",
     "output_type": "stream",
     "text": [
      "Year 2015\n",
      "ProductId\n",
      "48222     1\n",
      "116532    1\n",
      "Name: Quantity, dtype: int64\n",
      "\n",
      "Year 2016\n",
      "ProductId\n",
      "2     1\n",
      "9     1\n",
      "16    1\n",
      "17    1\n",
      "18    1\n",
      "38    1\n",
      "39    1\n",
      "43    1\n",
      "50    1\n",
      "56    1\n",
      "Name: Quantity, dtype: int64\n",
      "\n",
      "Year 2017\n",
      "ProductId\n",
      "231     1\n",
      "429     1\n",
      "441     1\n",
      "1014    1\n",
      "1342    1\n",
      "1413    1\n",
      "1621    1\n",
      "1663    1\n",
      "1675    1\n",
      "1709    1\n",
      "Name: Quantity, dtype: int64\n",
      "\n",
      "Year 2018\n",
      "ProductId\n",
      "204     1\n",
      "248     1\n",
      "429     1\n",
      "469     1\n",
      "593     1\n",
      "853     1\n",
      "935     1\n",
      "939     1\n",
      "978     1\n",
      "1019    1\n",
      "Name: Quantity, dtype: int64\n",
      "\n",
      "CPU times: total: 3.11 s\n",
      "Wall time: 3.74 s\n"
     ]
    }
   ],
   "source": [
    "% % time\n",
    "\n",
    "\"\"\" Produkte die pro Jahr am wenigsten gekauft wurden - nach Anzahl Orders von Produkt \"\"\"\n",
    "df[\"Year\"] = df[\"OrderDate\"].dt.to_period(\"Y\")\n",
    "years = df.sort_values(by=\"OrderDate\")[\"Year\"].unique()\n",
    "\n",
    "for year in years:\n",
    "    print(\"Year \" + str(year))\n",
    "    products_year = df.groupby(by=[\"Year\"]).get_group(year)\n",
    "    print(products_year.groupby(by=[\"ProductId\"]).count().sort_values(by=[\"Quantity\", \"ProductId\"]).head(10)[\"OrderId\"])\n",
    "    print()"
   ],
   "metadata": {
    "collapsed": false,
    "pycharm": {
     "name": "#%%\n"
    }
   }
  },
  {
   "cell_type": "code",
   "execution_count": 24,
   "outputs": [
    {
     "name": "stdout",
     "output_type": "stream",
     "text": [
      "Year 2015\n",
      "ProductId\n",
      "48222      53.0\n",
      "116532    191.0\n",
      "Name: Quantity, dtype: float64\n",
      "Year 2016\n",
      "ProductId\n",
      "16     1.0\n",
      "17     1.0\n",
      "39     1.0\n",
      "72     1.0\n",
      "75     1.0\n",
      "91     1.0\n",
      "98     1.0\n",
      "116    1.0\n",
      "158    1.0\n",
      "174    1.0\n",
      "Name: Quantity, dtype: float64\n",
      "Year 2017\n",
      "ProductId\n",
      "88215     0.2\n",
      "119806    0.2\n",
      "121919    0.2\n",
      "75428     0.4\n",
      "4819      0.5\n",
      "51682     0.5\n",
      "88789     0.5\n",
      "90193     0.5\n",
      "113126    0.5\n",
      "123489    0.5\n",
      "Name: Quantity, dtype: float64\n",
      "Year 2018\n",
      "ProductId\n",
      "144173    0.0\n",
      "144174    0.0\n",
      "13130     0.2\n",
      "15821     0.2\n",
      "119806    0.2\n",
      "162387    0.2\n",
      "99105     0.5\n",
      "127957    0.5\n",
      "141428    0.5\n",
      "158591    0.5\n",
      "Name: Quantity, dtype: float64\n",
      "CPU times: total: 3.52 s\n",
      "Wall time: 3.76 s\n"
     ]
    }
   ],
   "source": [
    "% % time\n",
    "\n",
    "\"\"\" Produkte die pro Jahr am wenigsten gekauft wurden - nach Summe der Quantity \"\"\"\n",
    "df[\"Year\"] = df[\"OrderDate\"].dt.to_period(\"Y\")\n",
    "years = df.sort_values(by=\"OrderDate\")[\"Year\"].unique()\n",
    "\n",
    "for year in years:\n",
    "    print(\"Year \" + str(year))\n",
    "    products_year = df.groupby(by=[\"Year\"]).get_group(year)\n",
    "    print(products_year.groupby(by=[\"ProductId\"]).sum().sort_values(by=[\"Quantity\", \"ProductId\"]).head(10)[\"Quantity\"])"
   ],
   "metadata": {
    "collapsed": false,
    "pycharm": {
     "name": "#%%\n"
    }
   }
  },
  {
   "cell_type": "code",
   "execution_count": 28,
   "outputs": [
    {
     "name": "stdout",
     "output_type": "stream",
     "text": [
      "2015\n",
      "Empty DataFrame\n",
      "Columns: [CustomerId, OrderId, ProductGroupId, Quantity, OrderDate, Year]\n",
      "Index: []\n",
      "2016\n",
      "           CustomerId  OrderId  ProductGroupId  Quantity  OrderDate  Year\n",
      "ProductId                                                                \n",
      "22307             818      818             818       818        818   818\n",
      "21346             302      302             302       302        302   302\n",
      "22275             258      258             258       258        258   258\n",
      "2017\n",
      "           CustomerId  OrderId  ProductGroupId  Quantity  OrderDate  Year\n",
      "ProductId                                                                \n",
      "22307            1199     1199            1199      1199       1199  1199\n",
      "21346             981      981             981       981        981   981\n",
      "1289              372      372             372       372        372   372\n",
      "2018\n",
      "           CustomerId  OrderId  ProductGroupId  Quantity  OrderDate  Year\n",
      "ProductId                                                                \n",
      "22307             643      643             643       643        643   643\n",
      "40                437      437             437       437        437   437\n",
      "682               408      408             408       408        408   408\n",
      "CPU times: total: 2.64 s\n",
      "Wall time: 2.81 s\n"
     ]
    }
   ],
   "source": [
    "% % time\n",
    "import datetime\n",
    "\n",
    "\"\"\" Bestverkaufte Produkte in der Vorweihnachtszeit pro Jahr \"\"\"\n",
    "df[\"Year\"] = df[\"OrderDate\"].dt.to_period(\"Y\")\n",
    "years = df.sort_values(by=\"OrderDate\")[\"Year\"].unique()\n",
    "\n",
    "for year in years:\n",
    "    print(\"Year \" + str(year))\n",
    "    products_year = df.groupby(by=[\"Year\"]).get_group(year)\n",
    "    startdate = datetime.datetime(year.year, 11, 16)\n",
    "    enddate = datetime.datetime(year.year, 12, 23)\n",
    "\n",
    "    mask = (products_year[\"OrderDate\"] >= startdate) & (products_year[\"OrderDate\"] <= enddate)\n",
    "    products_christmas_year = products_year.loc[mask]\n",
    "    print(products_christmas_year.groupby(by=[\"ProductId\"]).count().sort_values(by=\"Quantity\", ascending=False).head(3))"
   ],
   "metadata": {
    "collapsed": false,
    "pycharm": {
     "name": "#%%\n"
    }
   }
  },
  {
   "cell_type": "markdown",
   "source": [
    "### Modin Pandas with Ray"
   ],
   "metadata": {
    "collapsed": false,
    "pycharm": {
     "name": "#%% md\n"
    }
   }
  },
  {
   "cell_type": "code",
   "execution_count": 26,
   "outputs": [
    {
     "name": "stdout",
     "output_type": "stream",
     "text": [
      "CPU times: total: 266 ms\n",
      "Wall time: 1.95 s\n"
     ]
    }
   ],
   "source": [
    "% % time\n",
    "import modin.pandas as mpd\n",
    "\n",
    "mdf = mpd.read_csv(\"../sales-data.csv\", parse_dates=[\"OrderDate\"])\n"
   ],
   "metadata": {
    "collapsed": false,
    "pycharm": {
     "name": "#%%\n"
    }
   }
  },
  {
   "cell_type": "code",
   "execution_count": 12,
   "outputs": [
    {
     "name": "stderr",
     "output_type": "stream",
     "text": [
      "UserWarning: User-defined function verification is still under development in Modin. The function provided is not verified.\n"
     ]
    },
    {
     "name": "stdout",
     "output_type": "stream",
     "text": [
      "CPU times: total: 9.52 s\n",
      "Wall time: 37.3 s\n"
     ]
    },
    {
     "data": {
      "text/plain": "CustomerId\n1        267\n2         22\n3        591\n4        572\n5        516\n        ... \n42653      1\n42654      1\n42655      1\n42656      1\n42657      1\nName: OrderId, Length: 42657, dtype: int64"
     },
     "execution_count": 12,
     "metadata": {},
     "output_type": "execute_result"
    }
   ],
   "source": [
    "% % time\n",
    "\n",
    "\"\"\" Top 10 Customers\"\"\"\n",
    "mdf.drop_duplicates([\"CustomerId\", \"OrderId\"]).groupby(by=[\"CustomerId\"]).count()[\"OrderId\"]\n"
   ],
   "metadata": {
    "collapsed": false,
    "pycharm": {
     "name": "#%%\n"
    }
   }
  },
  {
   "cell_type": "code",
   "execution_count": 13,
   "outputs": [
    {
     "name": "stdout",
     "output_type": "stream",
     "text": [
      "CPU times: total: 125 ms\n",
      "Wall time: 3.19 s\n"
     ]
    },
    {
     "name": "stderr",
     "output_type": "stream",
     "text": [
      "UserWarning: sort_values defaulting to pandas implementation.\n",
      "To request implementation, send an email to feature_requests@modin.org.\n"
     ]
    },
    {
     "data": {
      "text/plain": "OrderMonth\n2017-11    7.543293e+07\n2017-03    7.459200e+07\n2017-10    7.223356e+07\n2017-06    7.191025e+07\n2017-05    6.984081e+07\n2018-06    6.936298e+07\n2018-10    6.857377e+07\n2018-02    6.821900e+07\n2017-02    6.666570e+07\n2018-03    6.664240e+07\nName: Quantity, dtype: float64"
     },
     "execution_count": 13,
     "metadata": {},
     "output_type": "execute_result"
    }
   ],
   "source": [
    "% % time\n",
    "\n",
    "\"\"\" Top Sold Products per Month\"\"\"\n",
    "mdf[\"OrderMonth\"] = mdf[\"OrderDate\"].dt.to_period('M')\n",
    "mdf.groupby(by='OrderMonth').sum().sort_values(by=\"Quantity\", ascending=False).head(10)[\"Quantity\"]\n"
   ],
   "metadata": {
    "collapsed": false,
    "pycharm": {
     "name": "#%%\n"
    }
   }
  },
  {
   "cell_type": "code",
   "execution_count": 18,
   "outputs": [
    {
     "name": "stderr",
     "output_type": "stream",
     "text": [
      "UserWarning: sort_values defaulting to pandas implementation.\n"
     ]
    },
    {
     "name": "stdout",
     "output_type": "stream",
     "text": [
      "Year 2015\n"
     ]
    },
    {
     "name": "stderr",
     "output_type": "stream",
     "text": [
      "UserWarning: `DataFrame.groupby_on_multiple_columns` defaulting to pandas implementation.\n",
      "FutureWarning: The `squeeze` parameter is deprecated and will be removed in a future version.\n",
      "UserWarning: Distributing <class 'pandas.core.frame.DataFrame'> object. This may take some time.\n"
     ]
    },
    {
     "name": "stdout",
     "output_type": "stream",
     "text": [
      "ProductId\n",
      "48222     1\n",
      "116532    1\n",
      "Name: OrderId, dtype: int64\n",
      "\n",
      "Year 2016\n",
      "ProductId\n",
      "2     1\n",
      "9     1\n",
      "16    1\n",
      "17    1\n",
      "18    1\n",
      "38    1\n",
      "39    1\n",
      "43    1\n",
      "50    1\n",
      "56    1\n",
      "Name: OrderId, dtype: int64\n",
      "\n",
      "Year 2017\n",
      "ProductId\n",
      "231     1\n",
      "429     1\n",
      "441     1\n",
      "1014    1\n",
      "1342    1\n",
      "1413    1\n",
      "1621    1\n",
      "1663    1\n",
      "1675    1\n",
      "1709    1\n",
      "Name: OrderId, dtype: int64\n",
      "\n",
      "Year 2018\n",
      "ProductId\n",
      "204     1\n",
      "248     1\n",
      "429     1\n",
      "469     1\n",
      "593     1\n",
      "853     1\n",
      "935     1\n",
      "939     1\n",
      "978     1\n",
      "1019    1\n",
      "Name: OrderId, dtype: int64\n",
      "\n",
      "CPU times: total: 5.23 s\n",
      "Wall time: 10 s\n"
     ]
    }
   ],
   "source": [
    "% % time\n",
    "\n",
    "\"\"\" Produkte die pro Jahr am wenigsten gekauft wurden  \"\"\"\n",
    "mdf[\"Year\"] = mdf[\"OrderDate\"].dt.to_period(\"Y\")\n",
    "years = mdf.sort_values(by=\"OrderDate\")[\"Year\"].unique()\n",
    "\n",
    "for year in years:\n",
    "    print(\"Year \" + str(year))\n",
    "    products_year = mdf.groupby(by=[\"Year\"]).get_group(year)\n",
    "    print(products_year.groupby(by=[\"ProductId\"]).count().sort_values(by=[\"Quantity\", \"ProductId\"]).head(10)[\"OrderId\"])\n",
    "    print()\n"
   ],
   "metadata": {
    "collapsed": false,
    "pycharm": {
     "name": "#%%\n"
    }
   }
  },
  {
   "cell_type": "code",
   "execution_count": 29,
   "outputs": [
    {
     "name": "stderr",
     "output_type": "stream",
     "text": [
      "UserWarning: sort_values defaulting to pandas implementation.\n"
     ]
    },
    {
     "name": "stdout",
     "output_type": "stream",
     "text": [
      "2015\n"
     ]
    },
    {
     "name": "stderr",
     "output_type": "stream",
     "text": [
      "UserWarning: `DataFrame.groupby_on_multiple_columns` defaulting to pandas implementation.\n",
      "FutureWarning: The `squeeze` parameter is deprecated and will be removed in a future version.\n",
      "UserWarning: Distributing <class 'pandas.core.frame.DataFrame'> object. This may take some time.\n",
      "UserWarning: `DataFrame.groupby` for empty DataFrame defaulting to pandas implementation.\n",
      "UserWarning: `DataFrame.groupby_on_multiple_columns` defaulting to pandas implementation.\n"
     ]
    },
    {
     "name": "stdout",
     "output_type": "stream",
     "text": [
      "Empty DataFrame\n",
      "Columns: [CustomerId, OrderId, ProductGroupId, Quantity, OrderDate, Year]\n",
      "Index: []\n",
      "2016\n"
     ]
    },
    {
     "name": "stderr",
     "output_type": "stream",
     "text": [
      "FutureWarning: The `squeeze` parameter is deprecated and will be removed in a future version.\n",
      "UserWarning: Distributing <class 'pandas.core.frame.DataFrame'> object. This may take some time.\n",
      "UserWarning: sort_values defaulting to pandas implementation.\n",
      "UserWarning: `DataFrame.groupby_on_multiple_columns` defaulting to pandas implementation.\n"
     ]
    },
    {
     "name": "stdout",
     "output_type": "stream",
     "text": [
      "           CustomerId  OrderId  ProductGroupId  Quantity  OrderDate  Year\n",
      "ProductId                                                                \n",
      "22307             818      818             818       818        818   818\n",
      "21346             302      302             302       302        302   302\n",
      "22275             258      258             258       258        258   258\n",
      "2017\n"
     ]
    },
    {
     "name": "stderr",
     "output_type": "stream",
     "text": [
      "FutureWarning: The `squeeze` parameter is deprecated and will be removed in a future version.\n",
      "UserWarning: Distributing <class 'pandas.core.frame.DataFrame'> object. This may take some time.\n",
      "UserWarning: sort_values defaulting to pandas implementation.\n",
      "UserWarning: `DataFrame.groupby_on_multiple_columns` defaulting to pandas implementation.\n"
     ]
    },
    {
     "name": "stdout",
     "output_type": "stream",
     "text": [
      "           CustomerId  OrderId  ProductGroupId  Quantity  OrderDate  Year\n",
      "ProductId                                                                \n",
      "22307            1199     1199            1199      1199       1199  1199\n",
      "21346             981      981             981       981        981   981\n",
      "1289              372      372             372       372        372   372\n",
      "2018\n"
     ]
    },
    {
     "name": "stderr",
     "output_type": "stream",
     "text": [
      "FutureWarning: The `squeeze` parameter is deprecated and will be removed in a future version.\n",
      "UserWarning: Distributing <class 'pandas.core.frame.DataFrame'> object. This may take some time.\n"
     ]
    },
    {
     "name": "stdout",
     "output_type": "stream",
     "text": [
      "           CustomerId  OrderId  ProductGroupId  Quantity  OrderDate  Year\n",
      "ProductId                                                                \n",
      "22307             643      643             643       643        643   643\n",
      "40                437      437             437       437        437   437\n",
      "682               408      408             408       408        408   408\n",
      "CPU times: total: 6.52 s\n",
      "Wall time: 10.1 s\n"
     ]
    },
    {
     "name": "stderr",
     "output_type": "stream",
     "text": [
      "UserWarning: sort_values defaulting to pandas implementation.\n"
     ]
    }
   ],
   "source": [
    "% % time\n",
    "import datetime\n",
    "\n",
    "\"\"\" Bestverkaufte Produkte in der Vorweihnachtszeit pro Jahr \"\"\"\n",
    "mdf[\"Year\"] = mdf[\"OrderDate\"].dt.to_period(\"Y\")\n",
    "years = mdf.sort_values(by=\"OrderDate\")[\"Year\"].unique()\n",
    "\n",
    "for year in years:\n",
    "    print(\"Year \" + str(year))\n",
    "    products_year = mdf.groupby(by=[\"Year\"]).get_group(year)\n",
    "    startdate = datetime.datetime(year.year, 11, 16)\n",
    "    enddate = datetime.datetime(year.year, 12, 23)\n",
    "\n",
    "    mask = (products_year[\"OrderDate\"] >= startdate) & (products_year[\"OrderDate\"] <= enddate)\n",
    "    products_christmas_year = products_year.loc[mask]\n",
    "    print(products_christmas_year.groupby(by=[\"ProductId\"]).count().sort_values(by=\"Quantity\", ascending=False).head(3))"
   ],
   "metadata": {
    "collapsed": false,
    "pycharm": {
     "name": "#%%\n"
    }
   }
  },
  {
   "cell_type": "code",
   "execution_count": 32,
   "outputs": [
    {
     "name": "stderr",
     "output_type": "stream",
     "text": [
      "UserWarning: sort_values defaulting to pandas implementation.\n",
      "UserWarning: `DataFrame.groupby_on_multiple_columns` defaulting to pandas implementation.\n",
      "FutureWarning: The `squeeze` parameter is deprecated and will be removed in a future version.\n",
      "UserWarning: Distributing <class 'pandas.core.frame.DataFrame'> object. This may take some time.\n"
     ]
    },
    {
     "name": "stdout",
     "output_type": "stream",
     "text": [
      "[(2015, 2), (2016, 27376), (2017, 2628470), (2018, 2628375)]\n",
      "[('Year: 2015', '100%', 'Amount of lines: 2'), ('Year: 2016', '1368700%', 'Amount of lines: 27376'), ('Year: 2017', '9501%', 'Amount of lines: 2628470'), ('Year: 2018', '0%', 'Amount of lines: 2628375')]\n",
      "CPU times: total: 4.48 s\n",
      "Wall time: 7.44 s\n"
     ]
    }
   ],
   "source": [
    "% % time\n",
    "\"\"\" Jährliche Wachstumsrate gemessen an den Order Line Items \"\"\"\n",
    "mdf[\"Year\"] = mdf[\"OrderDate\"].dt.to_period(\"Y\")\n",
    "years = mdf.sort_values(by=\"OrderDate\")[\"Year\"].unique()\n",
    "\n",
    "year_lines = []\n",
    "\n",
    "for year in years:\n",
    "    products_year = mdf.groupby(by=[\"Year\"]).get_group(year)\n",
    "\n",
    "    amount_of_lines = products_year.count()[\"CustomerId\"]\n",
    "    year_lines.append((year.year, amount_of_lines))\n",
    "\n",
    "print(year_lines)\n",
    "year_growthrate_lines = []\n",
    "\n",
    "prev = None\n",
    "for i in range(len(year_lines)):\n",
    "    if prev == None:\n",
    "        year_growthrate_lines.append(\n",
    "            (\"Year: \" + str(year_lines[i][0]), \"100%\", \"Amount of lines: \" + str(year_lines[i][1])))\n",
    "        prev = year_lines[i]\n",
    "    else:\n",
    "        growthrate = (year_lines[i][1] / prev[1] - 1) * 100\n",
    "        year_growthrate_lines.append(\n",
    "            (\"Year: \" + str(year_lines[i][0]), str(int(growthrate)) + \"%\", \"Amount of lines: \" + str(year_lines[i][1])))\n",
    "        prev = year_lines[i]\n",
    "\n",
    "print(year_growthrate_lines)\n"
   ],
   "metadata": {
    "collapsed": false,
    "pycharm": {
     "name": "#%%\n"
    }
   }
  },
  {
   "cell_type": "code",
   "execution_count": 33,
   "outputs": [
    {
     "name": "stderr",
     "output_type": "stream",
     "text": [
      "UserWarning: sort_values defaulting to pandas implementation.\n",
      "UserWarning: `DataFrame.groupby_on_multiple_columns` defaulting to pandas implementation.\n",
      "FutureWarning: The `squeeze` parameter is deprecated and will be removed in a future version.\n",
      "UserWarning: Distributing <class 'pandas.core.frame.DataFrame'> object. This may take some time.\n"
     ]
    },
    {
     "name": "stdout",
     "output_type": "stream",
     "text": [
      "[(2015, 1), (2016, 7387), (2017, 758969), (2018, 763670)]\n",
      "[('Year: 2015', '100%', 'Amount of orders: 1'), ('Year: 2016', '738600%', 'Amount of orders: 7387'), ('Year: 2017', '10174%', 'Amount of orders: 758969'), ('Year: 2018', '0%', 'Amount of orders: 763670')]\n",
      "CPU times: total: 4.78 s\n",
      "Wall time: 8.79 s\n"
     ]
    }
   ],
   "source": [
    "% % time\n",
    "\n",
    "\"\"\" Jährliche Wachstumsrate gemessen an der Anzahl Orders \"\"\"\n",
    "mdf[\"Year\"] = mdf[\"OrderDate\"].dt.to_period(\"Y\")\n",
    "years = mdf.sort_values(by=\"OrderDate\")[\"Year\"].unique()\n",
    "year_orders = []\n",
    "\n",
    "for year in years:\n",
    "    products_year = mdf.groupby(by=[\"Year\"]).get_group(year)\n",
    "\n",
    "    amount_of_orders = products_year[\"OrderId\"].nunique()\n",
    "    year_orders.append((year.year, amount_of_orders))\n",
    "\n",
    "print(year_orders)\n",
    "year_growthrate_orders = []\n",
    "\n",
    "prev = None\n",
    "for i in range(len(year_orders)):\n",
    "    if prev is None:\n",
    "        year_growthrate_orders.append(\n",
    "            (\"Year: \" + str(year_orders[i][0]), \"100%\", \"Amount of orders: \" + str(year_orders[i][1])))\n",
    "        prev = year_orders[i]\n",
    "    else:\n",
    "        growthrate = (year_orders[i][1] / prev[1] - 1) * 100\n",
    "        year_growthrate_orders.append((\"Year: \" + str(year_orders[i][0]), str(int(growthrate)) + \"%\",\n",
    "                                       \"Amount of orders: \" + str(year_orders[i][1])))\n",
    "        prev = year_orders[i]\n",
    "\n",
    "print(year_growthrate_orders)\n"
   ],
   "metadata": {
    "collapsed": false,
    "pycharm": {
     "name": "#%%\n"
    }
   }
  },
  {
   "cell_type": "code",
   "execution_count": 36,
   "outputs": [
    {
     "name": "stderr",
     "output_type": "stream",
     "text": [
      "UserWarning: sort_values defaulting to pandas implementation.\n",
      "UserWarning: `DataFrame.groupby_on_multiple_columns` defaulting to pandas implementation.\n",
      "FutureWarning: The `squeeze` parameter is deprecated and will be removed in a future version.\n",
      "UserWarning: Distributing <class 'pandas.core.frame.DataFrame'> object. This may take some time.\n"
     ]
    },
    {
     "name": "stdout",
     "output_type": "stream",
     "text": [
      "[(2015, 244.0), (2016, 32456285.54), (2017, 800175941.4219999), (2018, 732054503.7)]\n",
      "[('Year: 2015', '100%', 'Sum of quantities: 244.0'), ('Year: 2016', '13301656%', 'Sum of quantities: 32456285.54'), ('Year: 2017', '2365%', 'Sum of quantities: 800175941.4219999'), ('Year: 2018', '-8%', 'Sum of quantities: 732054503.7')]\n",
      "CPU times: total: 4.73 s\n",
      "Wall time: 9.65 s\n"
     ]
    }
   ],
   "source": [
    "%%time\n",
    "\n",
    "\"\"\" Jährliche Wachstumsrate gemessen an der Quantity \"\"\"\n",
    "mdf[\"Year\"] = mdf[\"OrderDate\"].dt.to_period(\"Y\")\n",
    "years = mdf.sort_values(by=\"OrderDate\")[\"Year\"].unique()\n",
    "year_quantities = []\n",
    "\n",
    "for year in years:\n",
    "    products_year = mdf.groupby(by=[\"Year\"]).get_group(year)\n",
    "\n",
    "    quantities = products_year[\"Quantity\"].sum()\n",
    "    year_quantities.append((year.year, quantities))\n",
    "    #print(products_year.groupby(by=[\"ProductId\"]).sum().sort_values(by=[\"Quantity\", \"ProductId\"]).head(10))\n",
    "\n",
    "print(year_quantities)\n",
    "year_growthrate_quantities = []\n",
    "\n",
    "prev = None\n",
    "for i in range(len(year_quantities)):\n",
    "    if prev is None:\n",
    "        year_growthrate_quantities.append(\n",
    "            (\"Year: \" + str(year_quantities[i][0]), \"100%\", \"Sum of quantities: \" + str(year_quantities[i][1])))\n",
    "        prev = year_quantities[i]\n",
    "    else:\n",
    "        growthrate = (year_quantities[i][1] / prev[1] - 1) * 100\n",
    "        year_growthrate_quantities.append((\"Year: \" + str(year_quantities[i][0]), str(int(growthrate)) + \"%\",\n",
    "                                           \"Sum of quantities: \" + str(year_quantities[i][1])))\n",
    "        prev = year_quantities[i]\n",
    "\n",
    "print(year_growthrate_quantities)"
   ],
   "metadata": {
    "collapsed": false,
    "pycharm": {
     "name": "#%%\n"
    }
   }
  }
 ],
 "metadata": {
  "kernelspec": {
   "display_name": "Python 3",
   "language": "python",
   "name": "python3"
  },
  "language_info": {
   "codemirror_mode": {
    "name": "ipython",
    "version": 2
   },
   "file_extension": ".py",
   "mimetype": "text/x-python",
   "name": "python",
   "nbconvert_exporter": "python",
   "pygments_lexer": "ipython2",
   "version": "2.7.6"
  }
 },
 "nbformat": 4,
 "nbformat_minor": 0
}
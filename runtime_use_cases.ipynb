{
 "cells": [
  {
   "cell_type": "code",
   "execution_count": 1,
   "outputs": [
    {
     "name": "stderr",
     "output_type": "stream",
     "text": [
      "2022-01-29 15:22:31,683\tINFO services.py:1338 -- View the Ray dashboard at \u001B[1m\u001B[32mhttp://127.0.0.1:8265\u001B[39m\u001B[22m\n"
     ]
    },
    {
     "data": {
      "text/plain": "{'node_ip_address': '127.0.0.1',\n 'raylet_ip_address': '127.0.0.1',\n 'redis_address': '127.0.0.1:6379',\n 'object_store_address': 'tcp://127.0.0.1:55276',\n 'raylet_socket_name': 'tcp://127.0.0.1:54799',\n 'webui_url': '127.0.0.1:8265',\n 'session_dir': 'C:\\\\Users\\\\Florian\\\\AppData\\\\Local\\\\Temp\\\\ray\\\\session_2022-01-29_15-22-27_879593_10108',\n 'metrics_export_port': 60006,\n 'node_id': '768d6af8f2beb0d66c1910df05c1dae7bc0592d3ad985ad530ed4712'}"
     },
     "execution_count": 1,
     "metadata": {},
     "output_type": "execute_result"
    }
   ],
   "source": [
    "import ray\n",
    "ray.init()"
   ],
   "metadata": {
    "collapsed": false,
    "pycharm": {
     "name": "#%%\n"
    }
   }
  },
  {
   "cell_type": "code",
   "execution_count": 2,
   "outputs": [
    {
     "name": "stdout",
     "output_type": "stream",
     "text": [
      "CPU times: total: 62.5 ms\n",
      "Wall time: 2.79 s\n"
     ]
    }
   ],
   "source": [
    "%%time\n",
    "import ray\n",
    "\n",
    "\"\"\" Read the data \"\"\"\n",
    "ds = ray.data.read_csv(\"../sales-data.csv\")"
   ],
   "metadata": {
    "collapsed": false,
    "pycharm": {
     "name": "#%%\n"
    }
   }
  },
  {
   "cell_type": "markdown",
   "source": [
    "# Top 10 Customers\n",
    "\n",
    "## Ray Datasets"
   ],
   "metadata": {
    "collapsed": false,
    "pycharm": {
     "name": "#%% md\n"
    }
   }
  },
  {
   "cell_type": "code",
   "execution_count": 4,
   "outputs": [
    {
     "name": "stdout",
     "output_type": "stream",
     "text": [
      "CPU times: total: 172 ms\n",
      "Wall time: 24 s\n"
     ]
    },
    {
     "data": {
      "text/plain": "[(12835, 12656),\n (15, 11144),\n (9729, 10336),\n (10591, 9278),\n (14, 9117),\n (5659, 9095),\n (55, 8914),\n (2581, 8561),\n (12823, 8486),\n (12708, 8424)]"
     },
     "execution_count": 4,
     "metadata": {},
     "output_type": "execute_result"
    }
   ],
   "source": [
    "%%time\n",
    "import ray\n",
    "from collections import Counter\n",
    "\n",
    "\"\"\" Customer Top 10 \"\"\"\n",
    "@ray.remote\n",
    "def count_customer_orders(s):\n",
    "    counter = Counter()\n",
    "    customer_order = None\n",
    "    for record in s.iter_rows():\n",
    "        if customer_order == None:\n",
    "            customer_order = (record[\"CustomerId\"], record[\"OrderId\"])\n",
    "        elif customer_order[1] != record[\"OrderId\"]:\n",
    "            counter.update({customer_order[0]: 1})\n",
    "            customer_order = (record[\"CustomerId\"], record[\"OrderId\"])\n",
    "    counter.update({customer_order[0]: 1})\n",
    "    return counter\n",
    "\n",
    "@ray.remote\n",
    "def add_counters(fst, snd):\n",
    "    counter1 = Counter(fst)\n",
    "    counter2 = Counter(snd)\n",
    "    return counter1 + counter2\n",
    "\n",
    "@ray.remote\n",
    "def find_top_10_customers(customers):\n",
    "    counter = Counter(customers)\n",
    "    return counter.most_common(10)\n",
    "\n",
    "split_indices = []\n",
    "n = 12\n",
    "for i in range(1,n):\n",
    "    split_indices.append(int(i*ds.count()/n))\n",
    "\n",
    "splits = ds.split_at_indices(split_indices)\n",
    "customer_lists = []\n",
    "for split in splits:\n",
    "    x = count_customer_orders.remote(split)\n",
    "    customer_lists.append(x)\n",
    "\n",
    "while len(customer_lists) > 1:\n",
    "    customer_lists = customer_lists[2:] + [add_counters.remote(customer_lists[0], customer_lists[1])]\n",
    "\n",
    "ys = find_top_10_customers.remote(customer_lists[0])\n",
    "ray.get(ys)"
   ],
   "metadata": {
    "collapsed": false,
    "pycharm": {
     "name": "#%%\n"
    }
   }
  },
  {
   "cell_type": "markdown",
   "source": [
    "## Plain Python implementation"
   ],
   "metadata": {
    "collapsed": false,
    "pycharm": {
     "name": "#%% md\n"
    }
   }
  },
  {
   "cell_type": "code",
   "execution_count": 5,
   "outputs": [
    {
     "name": "stdout",
     "output_type": "stream",
     "text": [
      "CPU times: total: 1.2 s\n",
      "Wall time: 1.83 s\n"
     ]
    }
   ],
   "source": [
    "%%time\n",
    "def read_dataset(filename):\n",
    "    file = open(filename, 'r')\n",
    "    return file.readlines()\n",
    "\n",
    "lines = read_dataset(\"../sales-data.txt\")"
   ],
   "metadata": {
    "collapsed": false,
    "pycharm": {
     "name": "#%%\n"
    }
   }
  },
  {
   "cell_type": "code",
   "execution_count": 8,
   "outputs": [
    {
     "name": "stdout",
     "output_type": "stream",
     "text": [
      "[('12835', 11811), ('15', 11143), ('9729', 10242), ('14', 9117), ('55', 8917), ('12708', 7919), ('69', 7601), ('12823', 7516), ('16', 7473), ('3493', 7459)]\n",
      "CPU times: total: 4.73 s\n",
      "Wall time: 4.88 s\n"
     ]
    }
   ],
   "source": [
    "%%time\n",
    "from collections import Counter\n",
    "\n",
    "class CustomerCounter:\n",
    "    def __init__(self):\n",
    "        self.customers = {}\n",
    "\n",
    "    def add(self, customer, order):\n",
    "        if customer in self.customers:\n",
    "            self.customers[customer].add(order)\n",
    "        else:\n",
    "            self.customers[customer] = set(order)\n",
    "\n",
    "    def get_count(self):\n",
    "        counted = {}\n",
    "        for key in self.customers:\n",
    "            counted[key] = len(self.customers[key])\n",
    "        return Counter(counted)\n",
    "\n",
    "def find_top_10_customers(lines):\n",
    "    customer_counter = CustomerCounter()\n",
    "    for i in range(1, len(lines)):\n",
    "        parts = lines[i].split(';')\n",
    "        customer_counter.add(parts[0], parts[1])\n",
    "    print(customer_counter.get_count().most_common(10))\n",
    "\n",
    "find_top_10_customers(lines)"
   ],
   "metadata": {
    "collapsed": false,
    "pycharm": {
     "name": "#%%\n"
    }
   }
  },
  {
   "cell_type": "markdown",
   "source": [
    "## Ray Actors"
   ],
   "metadata": {
    "collapsed": false,
    "pycharm": {
     "name": "#%% md\n"
    }
   }
  },
  {
   "cell_type": "code",
   "execution_count": 18,
   "outputs": [
    {
     "name": "stdout",
     "output_type": "stream",
     "text": [
      "[('12835', 11813), ('15', 11148), ('9729', 10247), ('14', 9120), ('55', 8919), ('12708', 7921), ('69', 7603), ('12823', 7518), ('16', 7480), ('3493', 7464)]\n",
      "CPU times: total: 734 ms\n",
      "Wall time: 5.92 s\n"
     ]
    }
   ],
   "source": [
    "%%time\n",
    "from collections import Counter\n",
    "import ray\n",
    "\n",
    "@ray.remote\n",
    "class CustomerCounter:\n",
    "    def __init__(self):\n",
    "        self.customers = {}\n",
    "\n",
    "    def add(self, customer, order):\n",
    "        if customer in self.customers:\n",
    "            self.customers[customer].add(order)\n",
    "        else:\n",
    "            self.customers[customer] = set(order)\n",
    "\n",
    "    def get_count(self):\n",
    "        for key in self.customers:\n",
    "            self.customers[key] = len(self.customers[key])\n",
    "        return Counter(self.customers)\n",
    "\n",
    "    def process_chunk(self, chunk):\n",
    "        for line in chunk:\n",
    "            parts = line.split(';')\n",
    "            self.add(parts[0], parts[1])\n",
    "\n",
    "    def merge(self, customer_dict):\n",
    "        for key in customer_dict:\n",
    "            if key in self.customers:\n",
    "                self.customers[key].update(customer_dict[key])\n",
    "            else:\n",
    "                self.customers[key] = customer_dict[key]\n",
    "\n",
    "    def as_dict(self):\n",
    "        return self.customers\n",
    "\n",
    "\n",
    "def find_top_10_customers(lines):\n",
    "    chunks = 4\n",
    "    chunk_size = int(len(lines) / chunks + 1)\n",
    "    counters = []\n",
    "    for i in range(chunks):\n",
    "        customer_counter = CustomerCounter.remote()\n",
    "        start_index = i * chunk_size\n",
    "        chunk = lines[start_index:start_index + chunk_size]\n",
    "        customer_counter.process_chunk.remote(chunk)\n",
    "        counters.append(customer_counter)\n",
    "    counter = counters[0]\n",
    "    for i in range(1, chunks):\n",
    "        counter.merge.remote(counters[i].as_dict.remote())\n",
    "    top10 = counter.get_count.remote()\n",
    "    print(ray.get(top10).most_common(10))\n",
    "\n",
    "find_top_10_customers(lines)"
   ],
   "metadata": {
    "collapsed": false,
    "pycharm": {
     "name": "#%%\n"
    }
   }
  },
  {
   "cell_type": "markdown",
   "source": [
    "## Pandas"
   ],
   "metadata": {
    "collapsed": false,
    "pycharm": {
     "name": "#%% md\n"
    }
   }
  },
  {
   "cell_type": "code",
   "execution_count": 3,
   "outputs": [
    {
     "name": "stdout",
     "output_type": "stream",
     "text": [
      "CPU times: total: 3.66 s\n",
      "Wall time: 4.11 s\n"
     ]
    }
   ],
   "source": [
    "%%time\n",
    "import pandas as pd\n",
    "\n",
    "df = pd.read_csv(\"../sales-data.csv\", parse_dates=[\"OrderDate\"])"
   ],
   "metadata": {
    "collapsed": false,
    "pycharm": {
     "name": "#%%\n"
    }
   }
  },
  {
   "cell_type": "code",
   "execution_count": 33,
   "outputs": [
    {
     "name": "stdout",
     "output_type": "stream",
     "text": [
      "CPU times: total: 719 ms\n",
      "Wall time: 878 ms\n"
     ]
    },
    {
     "data": {
      "text/plain": "CustomerId\n12835    11805\n15       11141\n9729     10239\n14        9116\n55        8914\n12708     7915\n69        7599\n12823     7512\n16        7471\n3493      7455\nName: OrderId, dtype: int64"
     },
     "execution_count": 33,
     "metadata": {},
     "output_type": "execute_result"
    }
   ],
   "source": [
    "%%time\n",
    "import pandas as pd\n",
    "\n",
    "\"\"\"Top 10 customers\"\"\"\n",
    "df.drop_duplicates([\"CustomerId\", \"OrderId\"]).groupby(by=[\"CustomerId\"]).count().sort_values(by=\"OrderId\", ascending=False).head(10)[\"OrderId\"]"
   ],
   "metadata": {
    "collapsed": false,
    "pycharm": {
     "name": "#%%\n"
    }
   }
  },
  {
   "cell_type": "markdown",
   "source": [
    "## Modin Pandas on Ray"
   ],
   "metadata": {
    "collapsed": false,
    "pycharm": {
     "name": "#%% md\n"
    }
   }
  },
  {
   "cell_type": "code",
   "execution_count": 4,
   "outputs": [
    {
     "name": "stdout",
     "output_type": "stream",
     "text": [
      "CPU times: total: 562 ms\n",
      "Wall time: 4.82 s\n"
     ]
    }
   ],
   "source": [
    "%%time\n",
    "import modin.pandas as mpd\n",
    "\n",
    "mdf = mpd.read_csv(\"../sales-data.csv\", parse_dates=[\"OrderDate\"])\n"
   ],
   "metadata": {
    "collapsed": false,
    "pycharm": {
     "name": "#%%\n"
    }
   }
  },
  {
   "cell_type": "code",
   "execution_count": 35,
   "outputs": [
    {
     "name": "stderr",
     "output_type": "stream",
     "text": [
      "UserWarning: User-defined function verification is still under development in Modin. The function provided is not verified.\n"
     ]
    },
    {
     "name": "stdout",
     "output_type": "stream",
     "text": [
      "CPU times: total: 9.81 s\n",
      "Wall time: 37.2 s\n"
     ]
    },
    {
     "name": "stderr",
     "output_type": "stream",
     "text": [
      "UserWarning: sort_values defaulting to pandas implementation.\n",
      "To request implementation, send an email to feature_requests@modin.org.\n"
     ]
    },
    {
     "data": {
      "text/plain": "CustomerId\n12835    11805\n15       11141\n9729     10239\n14        9116\n55        8914\n12708     7915\n69        7599\n12823     7512\n16        7471\n3493      7455\nName: OrderId, dtype: int64"
     },
     "execution_count": 35,
     "metadata": {},
     "output_type": "execute_result"
    }
   ],
   "source": [
    "%%time\n",
    "\n",
    "\"\"\" Top 10 Customers\"\"\"\n",
    "mdf.drop_duplicates([\"CustomerId\", \"OrderId\"]).groupby(by=[\"CustomerId\"]).count().sort_values(by=\"OrderId\", ascending=False).head(10)[\"OrderId\"]"
   ],
   "metadata": {
    "collapsed": false,
    "pycharm": {
     "name": "#%%\n"
    }
   }
  },
  {
   "cell_type": "markdown",
   "source": [
    "# Bester Monat\n",
    "\n",
    "## Ray Datasets"
   ],
   "metadata": {
    "collapsed": false,
    "pycharm": {
     "name": "#%% md\n"
    }
   }
  },
  {
   "cell_type": "code",
   "execution_count": 41,
   "outputs": [
    {
     "name": "stdout",
     "output_type": "stream",
     "text": [
      "CPU times: total: 500 ms\n",
      "Wall time: 47.6 s\n"
     ]
    },
    {
     "data": {
      "text/plain": "[('201711', 75432926.97999977)]"
     },
     "execution_count": 41,
     "metadata": {},
     "output_type": "execute_result"
    }
   ],
   "source": [
    "%%time\n",
    "import ray\n",
    "from collections import Counter\n",
    "\n",
    "\"\"\"\n",
    "Anzahl an gekauften Produkten pro Monat\n",
    "\"\"\"\n",
    "@ray.remote\n",
    "def count_product_month(s):\n",
    "    counter = Counter()\n",
    "    for record in s.iter_rows():\n",
    "        month = record[\"OrderDate\"].strftime(\"%Y%m\")\n",
    "        counter.update({month: record[\"Quantity\"]})\n",
    "    return counter\n",
    "\n",
    "@ray.remote\n",
    "def add_counters(fst, snd):\n",
    "    counter1 = Counter(fst)\n",
    "    counter2 = Counter(snd)\n",
    "    return counter1 + counter2\n",
    "\n",
    "@ray.remote\n",
    "def find_top_month(month):\n",
    "    counter = Counter(month)\n",
    "    return counter.most_common(1)\n",
    "\n",
    "split_indices = []\n",
    "n = 12\n",
    "for i in range(1,n):\n",
    "    split_indices.append(int(i*ds.count()/n))\n",
    "\n",
    "splits = ds.split_at_indices(split_indices)\n",
    "month_quantity_lists = []\n",
    "for split in splits:\n",
    "    x = count_product_month.remote(split)\n",
    "    month_quantity_lists.append(x)\n",
    "\n",
    "while len(month_quantity_lists) > 1:\n",
    "    month_quantity_lists = month_quantity_lists[2:] + [add_counters.remote(month_quantity_lists[0], month_quantity_lists[1])]\n",
    "\n",
    "ys = find_top_month.remote(month_quantity_lists[0])\n",
    "ray.get(ys)"
   ],
   "metadata": {
    "collapsed": false,
    "pycharm": {
     "name": "#%%\n"
    }
   }
  },
  {
   "cell_type": "markdown",
   "source": [
    "## Pandas"
   ],
   "metadata": {
    "collapsed": false,
    "pycharm": {
     "name": "#%% md\n"
    }
   }
  },
  {
   "cell_type": "code",
   "execution_count": 48,
   "outputs": [
    {
     "name": "stdout",
     "output_type": "stream",
     "text": [
      "CPU times: total: 875 ms\n",
      "Wall time: 1.06 s\n"
     ]
    },
    {
     "data": {
      "text/plain": "OrderMonth\n2017-11    7.543293e+07\n2017-03    7.459200e+07\n2017-10    7.223356e+07\n2017-06    7.191025e+07\n2017-05    6.984081e+07\n2018-06    6.936298e+07\n2018-10    6.857377e+07\n2018-02    6.821900e+07\n2017-02    6.666570e+07\n2018-03    6.664240e+07\nFreq: M, Name: Quantity, dtype: float64"
     },
     "execution_count": 48,
     "metadata": {},
     "output_type": "execute_result"
    }
   ],
   "source": [
    "%%time\n",
    "\n",
    "df[\"OrderMonth\"] = df[\"OrderDate\"].dt.to_period('M')\n",
    "df.groupby(by='OrderMonth').sum().sort_values(by=\"Quantity\", ascending=False).head(10)[\"Quantity\"]"
   ],
   "metadata": {
    "collapsed": false,
    "pycharm": {
     "name": "#%%\n"
    }
   }
  },
  {
   "cell_type": "markdown",
   "source": [
    "## Modin"
   ],
   "metadata": {
    "collapsed": false,
    "pycharm": {
     "name": "#%% md\n"
    }
   }
  },
  {
   "cell_type": "code",
   "execution_count": 68,
   "outputs": [
    {
     "name": "stdout",
     "output_type": "stream",
     "text": [
      "CPU times: total: 93.8 ms\n",
      "Wall time: 1.33 s\n"
     ]
    },
    {
     "name": "stderr",
     "output_type": "stream",
     "text": [
      "UserWarning: sort_values defaulting to pandas implementation.\n"
     ]
    },
    {
     "data": {
      "text/plain": "OrderMonth\n2017-11    7.543293e+07\n2017-03    7.459200e+07\n2017-10    7.223356e+07\n2017-06    7.191025e+07\n2017-05    6.984081e+07\n2018-06    6.936298e+07\n2018-10    6.857377e+07\n2018-02    6.821900e+07\n2017-02    6.666570e+07\n2018-03    6.664240e+07\nName: Quantity, dtype: float64"
     },
     "execution_count": 68,
     "metadata": {},
     "output_type": "execute_result"
    }
   ],
   "source": [
    "%%time\n",
    "\n",
    "mdf[\"OrderMonth\"] = mdf[\"OrderDate\"].dt.to_period('M')\n",
    "mdf.groupby(by='OrderMonth').sum().sort_values(by=\"Quantity\", ascending=False).head(10)[\"Quantity\"]"
   ],
   "metadata": {
    "collapsed": false,
    "pycharm": {
     "name": "#%%\n"
    }
   }
  },
  {
   "cell_type": "markdown",
   "source": [
    "# Produkte mit den wenigsten Bestellungen pro Jahr"
   ],
   "metadata": {
    "collapsed": false,
    "pycharm": {
     "name": "#%% md\n"
    }
   }
  },
  {
   "cell_type": "markdown",
   "source": [
    "## Pandas"
   ],
   "metadata": {
    "collapsed": false,
    "pycharm": {
     "name": "#%% md\n"
    }
   }
  },
  {
   "cell_type": "code",
   "execution_count": 7,
   "outputs": [
    {
     "name": "stdout",
     "output_type": "stream",
     "text": [
      "Year 2015\n",
      "ProductId\n",
      "48222     1\n",
      "116532    1\n",
      "Name: OrderId, dtype: int64\n",
      "\n",
      "Year 2016\n",
      "ProductId\n",
      "2     1\n",
      "9     1\n",
      "16    1\n",
      "17    1\n",
      "18    1\n",
      "38    1\n",
      "39    1\n",
      "43    1\n",
      "50    1\n",
      "56    1\n",
      "Name: OrderId, dtype: int64\n",
      "\n",
      "Year 2017\n",
      "ProductId\n",
      "231     1\n",
      "429     1\n",
      "441     1\n",
      "1014    1\n",
      "1342    1\n",
      "1413    1\n",
      "1621    1\n",
      "1663    1\n",
      "1675    1\n",
      "1709    1\n",
      "Name: OrderId, dtype: int64\n",
      "\n",
      "Year 2018\n",
      "ProductId\n",
      "204     1\n",
      "248     1\n",
      "429     1\n",
      "469     1\n",
      "593     1\n",
      "853     1\n",
      "935     1\n",
      "939     1\n",
      "978     1\n",
      "1019    1\n",
      "Name: OrderId, dtype: int64\n",
      "\n",
      "CPU times: total: 2.98 s\n",
      "Wall time: 3.25 s\n"
     ]
    }
   ],
   "source": [
    "%%time\n",
    "\n",
    "\"\"\" Produkte die pro Jahr am wenigsten gekauft wurden - nach Anzahl Orders von Produkt \"\"\"\n",
    "df[\"Year\"] = df[\"OrderDate\"].dt.to_period(\"Y\")\n",
    "years = df.sort_values(by=\"OrderDate\")[\"Year\"].unique()\n",
    "\n",
    "for year in years:\n",
    "    print(\"Year \" + str(year))\n",
    "    products_year = df.groupby(by=[\"Year\"]).get_group(year)\n",
    "    print(products_year.groupby(by=[\"ProductId\"]).count().sort_values(by=[\"Quantity\", \"ProductId\"]).head(10)[\"OrderId\"])\n",
    "    print()\n"
   ],
   "metadata": {
    "collapsed": false,
    "pycharm": {
     "name": "#%%\n"
    }
   }
  },
  {
   "cell_type": "markdown",
   "source": [
    "## Modin"
   ],
   "metadata": {
    "collapsed": false,
    "pycharm": {
     "name": "#%% md\n"
    }
   }
  },
  {
   "cell_type": "code",
   "execution_count": 10,
   "outputs": [
    {
     "name": "stderr",
     "output_type": "stream",
     "text": [
      "UserWarning: sort_values defaulting to pandas implementation.\n"
     ]
    },
    {
     "name": "stdout",
     "output_type": "stream",
     "text": [
      "Year 2015\n"
     ]
    },
    {
     "name": "stderr",
     "output_type": "stream",
     "text": [
      "UserWarning: `DataFrame.groupby_on_multiple_columns` defaulting to pandas implementation.\n",
      "FutureWarning: The `squeeze` parameter is deprecated and will be removed in a future version.\n",
      "UserWarning: Distributing <class 'pandas.core.frame.DataFrame'> object. This may take some time.\n"
     ]
    },
    {
     "name": "stdout",
     "output_type": "stream",
     "text": [
      "ProductId\n",
      "48222     1\n",
      "116532    1\n",
      "Name: OrderId, dtype: int64\n",
      "\n",
      "Year 2016\n",
      "ProductId\n",
      "2     1\n",
      "9     1\n",
      "16    1\n",
      "17    1\n",
      "18    1\n",
      "38    1\n",
      "39    1\n",
      "43    1\n",
      "50    1\n",
      "56    1\n",
      "Name: OrderId, dtype: int64\n",
      "\n",
      "Year 2017\n",
      "ProductId\n",
      "231     1\n",
      "429     1\n",
      "441     1\n",
      "1014    1\n",
      "1342    1\n",
      "1413    1\n",
      "1621    1\n",
      "1663    1\n",
      "1675    1\n",
      "1709    1\n",
      "Name: OrderId, dtype: int64\n",
      "\n",
      "Year 2018\n",
      "ProductId\n",
      "204     1\n",
      "248     1\n",
      "429     1\n",
      "469     1\n",
      "593     1\n",
      "853     1\n",
      "935     1\n",
      "939     1\n",
      "978     1\n",
      "1019    1\n",
      "Name: OrderId, dtype: int64\n",
      "\n",
      "CPU times: total: 4.53 s\n",
      "Wall time: 9 s\n"
     ]
    },
    {
     "name": "stderr",
     "output_type": "stream",
     "text": [
      "\u001B[2m\u001B[36m(apply_list_of_funcs pid=160480)\u001B[0m \r"
     ]
    }
   ],
   "source": [
    "%%time\n",
    "\n",
    "mdf[\"Year\"] = mdf[\"OrderDate\"].dt.to_period(\"Y\")\n",
    "years = mdf.sort_values(by=\"OrderDate\")[\"Year\"].unique()\n",
    "for year in years:\n",
    "    print(\"Year \" + str(year))\n",
    "    products_year = mdf.groupby(by=[\"Year\"]).get_group(year)\n",
    "    print(products_year.groupby(by=[\"ProductId\"]).count().sort_values(by=[\"Quantity\", \"ProductId\"]).head(10)[\"OrderId\"])\n",
    "    print()"
   ],
   "metadata": {
    "collapsed": false,
    "pycharm": {
     "name": "#%%\n"
    }
   }
  },
  {
   "cell_type": "markdown",
   "source": [
    "# Produkte, die sich in der Vorweihnachtszeit jedes Jahres am besten verkaufen\n",
    "\n",
    "## Pandas"
   ],
   "metadata": {
    "collapsed": false,
    "pycharm": {
     "name": "#%% md\n"
    }
   }
  },
  {
   "cell_type": "code",
   "execution_count": 7,
   "outputs": [
    {
     "name": "stdout",
     "output_type": "stream",
     "text": [
      "Year 2015\n",
      "Empty DataFrame\n",
      "Columns: [CustomerId, OrderId, ProductGroupId, Quantity, OrderDate, Year]\n",
      "Index: []\n",
      "Year 2016\n",
      "           CustomerId  OrderId  ProductGroupId  Quantity  OrderDate  Year\n",
      "ProductId                                                                \n",
      "22307             818      818             818       818        818   818\n",
      "21346             302      302             302       302        302   302\n",
      "22275             258      258             258       258        258   258\n",
      "Year 2017\n",
      "           CustomerId  OrderId  ProductGroupId  Quantity  OrderDate  Year\n",
      "ProductId                                                                \n",
      "22307            1199     1199            1199      1199       1199  1199\n",
      "21346             981      981             981       981        981   981\n",
      "1289              372      372             372       372        372   372\n",
      "Year 2018\n",
      "           CustomerId  OrderId  ProductGroupId  Quantity  OrderDate  Year\n",
      "ProductId                                                                \n",
      "22307             643      643             643       643        643   643\n",
      "40                437      437             437       437        437   437\n",
      "682               408      408             408       408        408   408\n",
      "CPU times: total: 2.64 s\n",
      "Wall time: 3.47 s\n"
     ]
    }
   ],
   "source": [
    "%%time\n",
    "import datetime\n",
    "\n",
    "df[\"Year\"] = df[\"OrderDate\"].dt.to_period(\"Y\")\n",
    "years = df.sort_values(by=\"OrderDate\")[\"Year\"].unique()\n",
    "\n",
    "for year in years:\n",
    "    print(\"Year \" + str(year))\n",
    "    products_year = df.groupby(by=[\"Year\"]).get_group(year)\n",
    "    startdate = datetime.datetime(year.year, 11, 16)\n",
    "    enddate = datetime.datetime(year.year, 12, 23)\n",
    "\n",
    "    mask = (products_year[\"OrderDate\"] >= startdate) & (products_year[\"OrderDate\"] <= enddate)\n",
    "    products_christmas_year = products_year.loc[mask]\n",
    "    print(products_christmas_year.groupby(by=[\"ProductId\"]).count().sort_values(by=\"Quantity\", ascending=False).head(3))\n"
   ],
   "metadata": {
    "collapsed": false,
    "pycharm": {
     "name": "#%%\n"
    }
   }
  },
  {
   "cell_type": "markdown",
   "source": [
    "## Modin\n"
   ],
   "metadata": {
    "collapsed": false,
    "pycharm": {
     "name": "#%% md\n"
    }
   }
  },
  {
   "cell_type": "code",
   "execution_count": 10,
   "outputs": [
    {
     "name": "stderr",
     "output_type": "stream",
     "text": [
      "UserWarning: sort_values defaulting to pandas implementation.\n"
     ]
    },
    {
     "name": "stdout",
     "output_type": "stream",
     "text": [
      "Year 2015\n"
     ]
    },
    {
     "name": "stderr",
     "output_type": "stream",
     "text": [
      "UserWarning: `DataFrame.groupby_on_multiple_columns` defaulting to pandas implementation.\n",
      "FutureWarning: The `squeeze` parameter is deprecated and will be removed in a future version.\n",
      "UserWarning: Distributing <class 'pandas.core.frame.DataFrame'> object. This may take some time.\n",
      "UserWarning: `DataFrame.groupby` for empty DataFrame defaulting to pandas implementation.\n",
      "UserWarning: `DataFrame.groupby_on_multiple_columns` defaulting to pandas implementation.\n"
     ]
    },
    {
     "name": "stdout",
     "output_type": "stream",
     "text": [
      "Empty DataFrame\n",
      "Columns: [CustomerId, OrderId, ProductGroupId, Quantity, OrderDate, Year]\n",
      "Index: []\n",
      "Year 2016\n"
     ]
    },
    {
     "name": "stderr",
     "output_type": "stream",
     "text": [
      "FutureWarning: The `squeeze` parameter is deprecated and will be removed in a future version.\n",
      "UserWarning: Distributing <class 'pandas.core.frame.DataFrame'> object. This may take some time.\n",
      "UserWarning: sort_values defaulting to pandas implementation.\n"
     ]
    },
    {
     "name": "stdout",
     "output_type": "stream",
     "text": [
      "           CustomerId  OrderId  ProductGroupId  Quantity  OrderDate  Year\n",
      "ProductId                                                                \n",
      "22307             818      818             818       818        818   818\n",
      "21346             302      302             302       302        302   302\n",
      "22275             258      258             258       258        258   258\n",
      "Year 2017\n"
     ]
    },
    {
     "name": "stderr",
     "output_type": "stream",
     "text": [
      "UserWarning: `DataFrame.groupby_on_multiple_columns` defaulting to pandas implementation.\n",
      "FutureWarning: The `squeeze` parameter is deprecated and will be removed in a future version.\n",
      "UserWarning: Distributing <class 'pandas.core.frame.DataFrame'> object. This may take some time.\n",
      "UserWarning: sort_values defaulting to pandas implementation.\n",
      "UserWarning: `DataFrame.groupby_on_multiple_columns` defaulting to pandas implementation.\n"
     ]
    },
    {
     "name": "stdout",
     "output_type": "stream",
     "text": [
      "           CustomerId  OrderId  ProductGroupId  Quantity  OrderDate  Year\n",
      "ProductId                                                                \n",
      "22307            1199     1199            1199      1199       1199  1199\n",
      "21346             981      981             981       981        981   981\n",
      "1289              372      372             372       372        372   372\n",
      "Year 2018\n"
     ]
    },
    {
     "name": "stderr",
     "output_type": "stream",
     "text": [
      "FutureWarning: The `squeeze` parameter is deprecated and will be removed in a future version.\n",
      "UserWarning: Distributing <class 'pandas.core.frame.DataFrame'> object. This may take some time.\n"
     ]
    },
    {
     "name": "stdout",
     "output_type": "stream",
     "text": [
      "           CustomerId  OrderId  ProductGroupId  Quantity  OrderDate  Year\n",
      "ProductId                                                                \n",
      "22307             643      643             643       643        643   643\n",
      "40                437      437             437       437        437   437\n",
      "682               408      408             408       408        408   408\n",
      "CPU times: total: 5.8 s\n",
      "Wall time: 8.89 s\n"
     ]
    },
    {
     "name": "stderr",
     "output_type": "stream",
     "text": [
      "UserWarning: sort_values defaulting to pandas implementation.\n"
     ]
    }
   ],
   "source": [
    "%%time\n",
    "import datetime\n",
    "\n",
    "mdf[\"Year\"] = mdf[\"OrderDate\"].dt.to_period(\"Y\")\n",
    "years = mdf.sort_values(by=\"OrderDate\")[\"Year\"].unique()\n",
    "\n",
    "for year in years:\n",
    "    print(\"Year \" + str(year))\n",
    "    products_year = mdf.groupby(by=[\"Year\"]).get_group(year)\n",
    "    startdate = datetime.datetime(year.year, 11, 16)\n",
    "    enddate = datetime.datetime(year.year, 12, 23)\n",
    "\n",
    "    mask = (products_year[\"OrderDate\"] >= startdate) & (products_year[\"OrderDate\"] <= enddate)\n",
    "    products_christmas_year = products_year.loc[mask]\n",
    "    print(products_christmas_year.groupby(by=[\"ProductId\"]).count().sort_values(by=\"Quantity\", ascending=False).head(3))"
   ],
   "metadata": {
    "collapsed": false,
    "pycharm": {
     "name": "#%%\n"
    }
   }
  },
  {
   "cell_type": "markdown",
   "source": [
    "# Jährliche Wachstumsrate\n"
   ],
   "metadata": {
    "collapsed": false,
    "pycharm": {
     "name": "#%% md\n"
    }
   }
  },
  {
   "cell_type": "markdown",
   "source": [
    "## Pandas"
   ],
   "metadata": {
    "collapsed": false,
    "pycharm": {
     "name": "#%% md\n"
    }
   }
  },
  {
   "cell_type": "code",
   "execution_count": 14,
   "outputs": [
    {
     "name": "stdout",
     "output_type": "stream",
     "text": [
      "[(2015, 244.0), (2016, 32456285.539999995), (2017, 800175941.4219998), (2018, 732054503.7000006)]\n",
      "[('Year: 2015', '100%', 'Sum of quantities: 244.0'), ('Year: 2016', '13301656%', 'Sum of quantities: 32456285.539999995'), ('Year: 2017', '2365%', 'Sum of quantities: 800175941.4219998'), ('Year: 2018', '-8%', 'Sum of quantities: 732054503.7000006')]\n",
      "CPU times: total: 2.39 s\n",
      "Wall time: 2.68 s\n"
     ]
    }
   ],
   "source": [
    "%%time\n",
    "\n",
    "\"\"\" Jährliche Wachstumsrate gemessen an der Quantity \"\"\"\n",
    "df[\"Year\"] = df[\"OrderDate\"].dt.to_period(\"Y\")\n",
    "years = df.sort_values(by=\"OrderDate\")[\"Year\"].unique()\n",
    "year_quantities = []\n",
    "\n",
    "for year in years:\n",
    "    products_year = df.groupby(by=[\"Year\"]).get_group(year)\n",
    "\n",
    "    quantities = products_year[\"Quantity\"].sum()\n",
    "    year_quantities.append((year.year, quantities))\n",
    "\n",
    "print(year_quantities)\n",
    "year_growthrate_quantities = []\n",
    "\n",
    "prev = None\n",
    "for i in range(len(year_quantities)):\n",
    "    if prev is None:\n",
    "        year_growthrate_quantities.append(\n",
    "            (\"Year: \" + str(year_quantities[i][0]), \"100%\", \"Sum of quantities: \" + str(year_quantities[i][1])))\n",
    "        prev = year_quantities[i]\n",
    "    else:\n",
    "        growthrate = (year_quantities[i][1] / prev[1] - 1) * 100\n",
    "        year_growthrate_quantities.append((\"Year: \" + str(year_quantities[i][0]), str(int(growthrate)) + \"%\",\n",
    "                                           \"Sum of quantities: \" + str(year_quantities[i][1])))\n",
    "        prev = year_quantities[i]\n",
    "\n",
    "print(year_growthrate_quantities)"
   ],
   "metadata": {
    "collapsed": false,
    "pycharm": {
     "name": "#%%\n"
    }
   }
  },
  {
   "cell_type": "markdown",
   "source": [
    "## Modin\n"
   ],
   "metadata": {
    "collapsed": false,
    "pycharm": {
     "name": "#%% md\n"
    }
   }
  },
  {
   "cell_type": "code",
   "execution_count": 18,
   "outputs": [
    {
     "name": "stderr",
     "output_type": "stream",
     "text": [
      "UserWarning: sort_values defaulting to pandas implementation.\n",
      "UserWarning: `DataFrame.groupby_on_multiple_columns` defaulting to pandas implementation.\n",
      "FutureWarning: The `squeeze` parameter is deprecated and will be removed in a future version.\n",
      "UserWarning: Distributing <class 'pandas.core.frame.DataFrame'> object. This may take some time.\n"
     ]
    },
    {
     "name": "stdout",
     "output_type": "stream",
     "text": [
      "[(2015, 244.0), (2016, 32456285.54), (2017, 800175941.4219999), (2018, 732054503.7)]\n",
      "[('Year: 2015', '100%', 'Sum of quantities: 244.0'), ('Year: 2016', '13301656%', 'Sum of quantities: 32456285.54'), ('Year: 2017', '2365%', 'Sum of quantities: 800175941.4219999'), ('Year: 2018', '-8%', 'Sum of quantities: 732054503.7')]\n",
      "CPU times: total: 4.11 s\n",
      "Wall time: 6.52 s\n"
     ]
    }
   ],
   "source": [
    "%%time\n",
    "\n",
    "\"\"\" Jährliche Wachstumsrate gemessen an der Quantity \"\"\"\n",
    "mdf[\"Year\"] = mdf[\"OrderDate\"].dt.to_period(\"Y\")\n",
    "years = mdf.sort_values(by=\"OrderDate\")[\"Year\"].unique()\n",
    "year_quantities = []\n",
    "\n",
    "for year in years:\n",
    "    products_year = mdf.groupby(by=[\"Year\"]).get_group(year)\n",
    "\n",
    "    quantities = products_year[\"Quantity\"].sum()\n",
    "    year_quantities.append((year.year, quantities))\n",
    "    #print(products_year.groupby(by=[\"ProductId\"]).sum().sort_values(by=[\"Quantity\", \"ProductId\"]).head(10))\n",
    "\n",
    "print(year_quantities)\n",
    "year_growthrate_quantities = []\n",
    "\n",
    "prev = None\n",
    "for i in range(len(year_quantities)):\n",
    "    if prev is None:\n",
    "        year_growthrate_quantities.append(\n",
    "            (\"Year: \" + str(year_quantities[i][0]), \"100%\", \"Sum of quantities: \" + str(year_quantities[i][1])))\n",
    "        prev = year_quantities[i]\n",
    "    else:\n",
    "        growthrate = (year_quantities[i][1] / prev[1] - 1) * 100\n",
    "        year_growthrate_quantities.append((\"Year: \" + str(year_quantities[i][0]), str(int(growthrate)) + \"%\",\n",
    "                                           \"Sum of quantities: \" + str(year_quantities[i][1])))\n",
    "        prev = year_quantities[i]\n",
    "\n",
    "print(year_growthrate_quantities)"
   ],
   "metadata": {
    "collapsed": false,
    "pycharm": {
     "name": "#%%\n"
    }
   }
  }
 ],
 "metadata": {
  "kernelspec": {
   "display_name": "Python 3",
   "language": "python",
   "name": "python3"
  },
  "language_info": {
   "codemirror_mode": {
    "name": "ipython",
    "version": 2
   },
   "file_extension": ".py",
   "mimetype": "text/x-python",
   "name": "python",
   "nbconvert_exporter": "python",
   "pygments_lexer": "ipython2",
   "version": "2.7.6"
  }
 },
 "nbformat": 4,
 "nbformat_minor": 0
}
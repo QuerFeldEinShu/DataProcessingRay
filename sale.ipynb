{
 "cells": [
  {
   "cell_type": "code",
   "execution_count": 2,
   "id": "905e0c60-1bfd-4ca5-9852-2ba333a716f8",
   "metadata": {},
   "outputs": [],
   "source": [
    "class Sale:\n",
    "    def __init__(self, customer_id , order_id, product_id, product_group_id, quantity, order_date):\n",
    "        self.customer_id = customer_id\n",
    "        self.order_id = order_id\n",
    "        self.product_id = product_id\n",
    "        self.product_group_id = product_group_id\n",
    "        self.quantity = quantity\n",
    "        self.order_date = order_date"
   ]
  }
 ],
 "metadata": {
  "kernelspec": {
   "display_name": "Python 3",
   "language": "python",
   "name": "python3"
  },
  "language_info": {
   "codemirror_mode": {
    "name": "ipython",
    "version": 3
   },
   "file_extension": ".py",
   "mimetype": "text/x-python",
   "name": "python",
   "nbconvert_exporter": "python",
   "pygments_lexer": "ipython3",
   "version": "3.8.8"
  }
 },
 "nbformat": 4,
 "nbformat_minor": 5
}

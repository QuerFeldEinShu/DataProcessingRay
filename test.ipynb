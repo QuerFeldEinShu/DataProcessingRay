{
 "cells": [
  {
   "cell_type": "code",
   "execution_count": 18,
   "id": "140b8f37-6b6a-4608-844c-4b537c9a205b",
   "metadata": {},
   "outputs": [
    {
     "name": "stdout",
     "output_type": "stream",
     "text": [
      "Dataset(num_blocks=1, num_rows=None, schema={CustomerId: int64, OrderId: int64, ProductId: int64, ProductGroupId: int64, Quantity: double, OrderDate: date32[day]})\n",
      "2\n"
     ]
    }
   ],
   "source": [
    "import ray\n",
    "\n",
    "ds = ray.data.read_csv(\"./sales-data.csv\")\n",
    "print(ds)\n",
    "\n",
    "@ray.remote\n",
    "def test():\n",
    "    return 2\n",
    "\n",
    "for _ in range(4):\n",
    "    test.remote()\n",
    "\n",
    "obj = test.remote()\n",
    "print(ray.get(obj))"
   ]
  },
  {
   "cell_type": "code",
   "execution_count": null,
   "id": "c35b87a4-f218-4fcc-af09-1b7ebbdd8784",
   "metadata": {},
   "outputs": [],
   "source": []
  }
 ],
 "metadata": {
  "kernelspec": {
   "display_name": "Python 3",
   "language": "python",
   "name": "python3"
  },
  "language_info": {
   "codemirror_mode": {
    "name": "ipython",
    "version": 3
   },
   "file_extension": ".py",
   "mimetype": "text/x-python",
   "name": "python",
   "nbconvert_exporter": "python",
   "pygments_lexer": "ipython3",
   "version": "3.8.8"
  }
 },
 "nbformat": 4,
 "nbformat_minor": 5
}

{
 "cells": [
  {
   "cell_type": "code",
   "execution_count": 22,
   "id": "5c391728-2427-49a7-9f61-d3d596d0db43",
   "metadata": {},
   "outputs": [
    {
     "name": "stdout",
     "output_type": "stream",
     "text": [
      "Testrun\n",
      "Input read:  Dataset(num_blocks=1, num_rows=None, schema={CustomerId: int64, OrderId: int64, ProductId: int64, ProductGroupId: int64, Quantity: double, OrderDate: date32[day]})\n",
      "Splitting\n",
      "Functioning\n",
      "Getting\n",
      "[15, 14, 26, 55, 69, 16, 56, 21, 17, 108]\n",
      "999\n"
     ]
    }
   ],
   "source": [
    "import ray\n",
    "import collections\n",
    "\n",
    "print(\"Testrun\")\n",
    "\n",
    "ds = ray.data.read_csv(\"../testset.csv\")\n",
    "print(\"Input read: \", ds)\n",
    "\n",
    "\"\"\"\n",
    "Function welche die Top 10 Customer findet\n",
    "\"\"\"\n",
    "@ray.remote\n",
    "def find_top_10_customers(s):\n",
    "    dictionary = {}\n",
    "\n",
    "    for record in s.iter_rows():\n",
    "        if record[\"CustomerId\"] in dictionary:\n",
    "            dictionary[record[\"CustomerId\"]] = dictionary.get(record[\"CustomerId\"]) + 1\n",
    "        else:\n",
    "            dictionary[record[\"CustomerId\"]] = 1\n",
    "    \n",
    "    return sorted(dictionary, key=dictionary.get, reverse=True)[0:10]\n",
    "\n",
    "print(\"Splitting\")\n",
    "#splits = ds.split(n=1000000)\n",
    "print(\"Functioning\")\n",
    "ys = find_top_10_customers.remote(ds)\n",
    "print(\"Getting\")\n",
    "ys = ray.get(ys)\n",
    "\n",
    "print(ys)\n",
    "\n",
    "\n",
    "print(ds.count())"
   ]
  },
  {
   "cell_type": "code",
   "execution_count": null,
   "id": "54943b60-0623-4804-874e-88bba20b1a4c",
   "metadata": {},
   "outputs": [],
   "source": []
  }
 ],
 "metadata": {
  "kernelspec": {
   "display_name": "Python 3",
   "language": "python",
   "name": "python3"
  },
  "language_info": {
   "codemirror_mode": {
    "name": "ipython",
    "version": 3
   },
   "file_extension": ".py",
   "mimetype": "text/x-python",
   "name": "python",
   "nbconvert_exporter": "python",
   "pygments_lexer": "ipython3",
   "version": "3.8.8"
  }
 },
 "nbformat": 4,
 "nbformat_minor": 5
}
